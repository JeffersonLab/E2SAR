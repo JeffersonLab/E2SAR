{
 "cells": [
  {
   "cell_type": "markdown",
   "id": "e4b00205-01d2-4939-b3c3-426fbf200eb3",
   "metadata": {},
   "source": [
    "# Build and tune iPerf3.16 and above and test UDP performance in a single site"
   ]
  },
  {
   "cell_type": "markdown",
   "id": "9433131f-0d8d-4497-b724-82ab421947c2",
   "metadata": {},
   "source": [
    "## Build a slice"
   ]
  },
  {
   "cell_type": "code",
   "execution_count": 1,
   "id": "4f726755-ffa3-454c-b77e-e44f7933d61d",
   "metadata": {},
   "outputs": [
    {
     "data": {
      "text/html": [
       "<style type=\"text/css\">\n",
       "#T_424f1 tr:nth-child(even) {\n",
       "  background: #dbf3ff;\n",
       "  color: #231f20;\n",
       "}\n",
       "#T_424f1 tr:nth-child(odd) {\n",
       "  background: #ffffff;\n",
       "  color: #231f20;\n",
       "}\n",
       "#T_424f1 caption {\n",
       "  text-align: center;\n",
       "  font-size: 150%;\n",
       "}\n",
       "#T_424f1_row0_col0, #T_424f1_row0_col1, #T_424f1_row1_col0, #T_424f1_row1_col1, #T_424f1_row2_col0, #T_424f1_row2_col1, #T_424f1_row3_col0, #T_424f1_row3_col1, #T_424f1_row4_col0, #T_424f1_row4_col1, #T_424f1_row5_col0, #T_424f1_row5_col1, #T_424f1_row6_col0, #T_424f1_row6_col1, #T_424f1_row7_col0, #T_424f1_row7_col1, #T_424f1_row8_col0, #T_424f1_row8_col1, #T_424f1_row9_col0, #T_424f1_row9_col1, #T_424f1_row10_col0, #T_424f1_row10_col1, #T_424f1_row11_col0, #T_424f1_row11_col1, #T_424f1_row12_col0, #T_424f1_row12_col1, #T_424f1_row13_col0, #T_424f1_row13_col1, #T_424f1_row14_col0, #T_424f1_row14_col1, #T_424f1_row15_col0, #T_424f1_row15_col1, #T_424f1_row16_col0, #T_424f1_row16_col1 {\n",
       "  text-align: left;\n",
       "  border: 1px #231f20 solid !important;\n",
       "  overwrite: False;\n",
       "}\n",
       "</style>\n",
       "<table id=\"T_424f1\">\n",
       "  <caption>FABlib Config</caption>\n",
       "  <thead>\n",
       "  </thead>\n",
       "  <tbody>\n",
       "    <tr>\n",
       "      <td id=\"T_424f1_row0_col0\" class=\"data row0 col0\" >Orchestrator</td>\n",
       "      <td id=\"T_424f1_row0_col1\" class=\"data row0 col1\" >orchestrator.fabric-testbed.net</td>\n",
       "    </tr>\n",
       "    <tr>\n",
       "      <td id=\"T_424f1_row1_col0\" class=\"data row1 col0\" >Credential Manager</td>\n",
       "      <td id=\"T_424f1_row1_col1\" class=\"data row1 col1\" >cm.fabric-testbed.net</td>\n",
       "    </tr>\n",
       "    <tr>\n",
       "      <td id=\"T_424f1_row2_col0\" class=\"data row2 col0\" >Core API</td>\n",
       "      <td id=\"T_424f1_row2_col1\" class=\"data row2 col1\" >uis.fabric-testbed.net</td>\n",
       "    </tr>\n",
       "    <tr>\n",
       "      <td id=\"T_424f1_row3_col0\" class=\"data row3 col0\" >Token File</td>\n",
       "      <td id=\"T_424f1_row3_col1\" class=\"data row3 col1\" >/home/fabric/.tokens.json</td>\n",
       "    </tr>\n",
       "    <tr>\n",
       "      <td id=\"T_424f1_row4_col0\" class=\"data row4 col0\" >Project ID</td>\n",
       "      <td id=\"T_424f1_row4_col1\" class=\"data row4 col1\" >bbe0d94c-736b-477a-a2e6-fef9fe7ac9ca</td>\n",
       "    </tr>\n",
       "    <tr>\n",
       "      <td id=\"T_424f1_row5_col0\" class=\"data row5 col0\" >Bastion Host</td>\n",
       "      <td id=\"T_424f1_row5_col1\" class=\"data row5 col1\" >bastion.fabric-testbed.net</td>\n",
       "    </tr>\n",
       "    <tr>\n",
       "      <td id=\"T_424f1_row6_col0\" class=\"data row6 col0\" >Bastion Username</td>\n",
       "      <td id=\"T_424f1_row6_col1\" class=\"data row6 col1\" >baldin_0000147304</td>\n",
       "    </tr>\n",
       "    <tr>\n",
       "      <td id=\"T_424f1_row7_col0\" class=\"data row7 col0\" >Bastion Private Key File</td>\n",
       "      <td id=\"T_424f1_row7_col1\" class=\"data row7 col1\" >/home/fabric/work/fabric_config/fabric_bastion_key</td>\n",
       "    </tr>\n",
       "    <tr>\n",
       "      <td id=\"T_424f1_row8_col0\" class=\"data row8 col0\" >Slice Public Key File</td>\n",
       "      <td id=\"T_424f1_row8_col1\" class=\"data row8 col1\" >/home/fabric/work/fabric_config/slice_key.pub</td>\n",
       "    </tr>\n",
       "    <tr>\n",
       "      <td id=\"T_424f1_row9_col0\" class=\"data row9 col0\" >Slice Private Key File</td>\n",
       "      <td id=\"T_424f1_row9_col1\" class=\"data row9 col1\" >/home/fabric/work/fabric_config/slice_key</td>\n",
       "    </tr>\n",
       "    <tr>\n",
       "      <td id=\"T_424f1_row10_col0\" class=\"data row10 col0\" >Sites to avoid</td>\n",
       "      <td id=\"T_424f1_row10_col1\" class=\"data row10 col1\" ></td>\n",
       "    </tr>\n",
       "    <tr>\n",
       "      <td id=\"T_424f1_row11_col0\" class=\"data row11 col0\" >SSH Command Line</td>\n",
       "      <td id=\"T_424f1_row11_col1\" class=\"data row11 col1\" >ssh -i {{ _self_.private_ssh_key_file }} -F /home/fabric/work/fabric_config/ssh_config {{ _self_.username }}@{{ _self_.management_ip }}</td>\n",
       "    </tr>\n",
       "    <tr>\n",
       "      <td id=\"T_424f1_row12_col0\" class=\"data row12 col0\" >Log Level</td>\n",
       "      <td id=\"T_424f1_row12_col1\" class=\"data row12 col1\" >INFO</td>\n",
       "    </tr>\n",
       "    <tr>\n",
       "      <td id=\"T_424f1_row13_col0\" class=\"data row13 col0\" >Log File</td>\n",
       "      <td id=\"T_424f1_row13_col1\" class=\"data row13 col1\" >/tmp/fablib/fablib.log</td>\n",
       "    </tr>\n",
       "    <tr>\n",
       "      <td id=\"T_424f1_row14_col0\" class=\"data row14 col0\" >Bastion SSH Config File</td>\n",
       "      <td id=\"T_424f1_row14_col1\" class=\"data row14 col1\" >/home/fabric/work/fabric_config/ssh_config</td>\n",
       "    </tr>\n",
       "    <tr>\n",
       "      <td id=\"T_424f1_row15_col0\" class=\"data row15 col0\" >Version</td>\n",
       "      <td id=\"T_424f1_row15_col1\" class=\"data row15 col1\" >1.6.4</td>\n",
       "    </tr>\n",
       "    <tr>\n",
       "      <td id=\"T_424f1_row16_col0\" class=\"data row16 col0\" >Data directory</td>\n",
       "      <td id=\"T_424f1_row16_col1\" class=\"data row16 col1\" >/tmp/fablib</td>\n",
       "    </tr>\n",
       "  </tbody>\n",
       "</table>\n"
      ],
      "text/plain": [
       "<pandas.io.formats.style.Styler at 0x7e9c86bb5890>"
      ]
     },
     "metadata": {},
     "output_type": "display_data"
    }
   ],
   "source": [
    "# Preamble\n",
    "from datetime import datetime\n",
    "from datetime import timezone\n",
    "from datetime import timedelta\n",
    "\n",
    "from fabrictestbed_extensions.fablib.fablib import FablibManager as fablib_manager\n",
    "\n",
    "from ipaddress import ip_address, IPv4Address, IPv6Address, IPv4Network, IPv6Network\n",
    "import ipaddress\n",
    "\n",
    "fablib = fablib_manager()             \n",
    "fablib.show_config();\n",
    "\n",
    "# variable settings\n",
    "slice_name = 'iPerf3 UDP slice'\n",
    "sender_name = 'sender'\n",
    "recver_name = 'recver'\n",
    "model_name = 'NIC_ConnectX_6'\n",
    "#site_override = 'STAR'\n",
    "site_override = None\n",
    "subnet = IPv4Network(\"192.168.1.0/24\")\n",
    "\n",
    "# iperf\n",
    "iperf_url = 'https://github.com/esnet/iperf/releases/download/3.16/iperf-3.16.tar.gz'"
   ]
  },
  {
   "cell_type": "code",
   "execution_count": 2,
   "id": "3b9b9994-deff-41b7-a8d1-53fc3a035e5f",
   "metadata": {},
   "outputs": [
    {
     "name": "stdout",
     "output_type": "stream",
     "text": [
      "Unable to find a site matching the requirements\n"
     ]
    }
   ],
   "source": [
    "# find an available site in continental US\n",
    "lon_west=-124.3993243\n",
    "lon_east=-69.9721573\n",
    "\n",
    "if not site_override:\n",
    "    # need to have ConnectX6, PTP and be in continental US\n",
    "    selected_site = fablib.get_random_site(filter_function=lambda x: x['nic_connectx_6_available'] >= 2 \n",
    "                                              and x['location'][1] < lon_east\n",
    "                                              and x['location'][1] > lon_west\n",
    "                                              and x['ptp_capable'] is True) \n",
    "else:\n",
    "    selected_site = site_override\n",
    "\n",
    "if selected_site:\n",
    "    print(f'Selected site is {selected_site}')\n",
    "else:\n",
    "    print('Unable to find a site matching the requirements')"
   ]
  },
  {
   "cell_type": "code",
   "execution_count": null,
   "id": "be796ea9-bbb3-47fa-8e2c-8e8be6bba120",
   "metadata": {},
   "outputs": [],
   "source": [
    "# build a slice\n",
    "slice = fablib.new_slice(name=slice_name)\n",
    "\n",
    "node_attribs = {'site': selected_site,\n",
    "                'cores': 32,\n",
    "                'ram': 32,\n",
    "                'disk': 100,\n",
    "                'image': 'default_ubuntu_22',\n",
    "               }\n",
    "\n",
    "# create a network\n",
    "net1 = slice.add_l2network(name=sender_name+'_'+recver_name+'_net', subnet=subnet)\n",
    "\n",
    "nodes = {}\n",
    "# create identical nodes for sending and receiving with a selected network card\n",
    "# use subnet address assignment\n",
    "for node_name, node_addr in zip([sender_name, recver_name], subnet.hosts()):\n",
    "    print(f'{node_name=} {node_addr=}')\n",
    "    nodes[node_name] = slice.add_node(name=node_name, **node_attribs)\n",
    "    nic_interface = nodes[node_name].add_component(model=model_name, name=node_name+'_nic').get_interfaces()[0]\n",
    "    net1.add_interface(nic_interface)\n",
    "    nic_interface.set_mode('config')\n",
    "    nic_interface.set_ip_addr(node_addr)\n",
    "\n",
    "# Submit the slice\n",
    "slice.submit();"
   ]
  },
  {
   "cell_type": "code",
   "execution_count": null,
   "id": "7cb4cf01-cfe0-4f2e-9791-db2998661147",
   "metadata": {},
   "outputs": [],
   "source": [
    "# get slice details (if not creating new)\n",
    "slice = fablib.get_slice(name=slice_name)\n",
    "a = slice.show()\n",
    "nets = slice.list_networks()\n",
    "nodes = slice.list_nodes()"
   ]
  },
  {
   "cell_type": "markdown",
   "id": "80e6f25a-38df-42b9-86c6-ec5671c57a6e",
   "metadata": {},
   "source": [
    "## Run updates"
   ]
  },
  {
   "cell_type": "code",
   "execution_count": null,
   "id": "98c25fcf-7faf-4a0a-8350-c2a59e946d99",
   "metadata": {},
   "outputs": [],
   "source": [
    "# run updates and install dependencies and reboot\n",
    "commands = ['sudo apt-get -q update -y',\n",
    "            'sudo apt-get -q install -y gcc make'\n",
    "           ]\n",
    "\n",
    "print('Updating...')\n",
    "for node in slice.nodes:\n",
    "    print(f'Working on {node.get_name()}')\n",
    "    for command in commands:\n",
    "        print(f'\\tExecuting \"{command}\"')\n",
    "        node.execute(command, output_file=node.get_name() + '_update.log', quiet=True)\n",
    "        \n",
    "print('Rebooting...')\n",
    "reboot = 'sudo reboot'\n",
    "for node in slice.nodes:\n",
    "    node.execute(reboot)\n",
    "\n",
    "slice.wait_ssh(timeout=360,interval=10,progress=True)\n",
    "slice.update()\n",
    "slice.test_ssh()\n",
    "print(\"Reconnected!\")"
   ]
  },
  {
   "cell_type": "markdown",
   "id": "9407ad04-686d-4fb3-9f56-73ebcb4397ef",
   "metadata": {},
   "source": [
    "## Download, build and install iPerf3"
   ]
  },
  {
   "cell_type": "code",
   "execution_count": null,
   "id": "64b6a823-0437-415d-aa04-42ebdcdfcc4b",
   "metadata": {},
   "outputs": [],
   "source": [
    "commands = ['curl -Ls ' + iperf_url + ' > iperf.tar.gz',\n",
    "            'tar -zxf iperf.tar.gz',\n",
    "            'sudo mkdir -p /opt && sudo chown ubuntu /opt',\n",
    "            'cd iperf-3.16 && ./configure --prefix=/opt && make install',\n",
    "           ]\n",
    "\n",
    "for node in slice.nodes:\n",
    "    print(f'Working on {node.get_name()}')\n",
    "    for command in commands:\n",
    "        print(f'\\tExecuting \"{command}\"')\n",
    "        stdout, stderr = node.execute(command, quiet=True, output_file=node.get_name() + '_install.log')\n",
    "        if not stderr and len(stderr) > 0:\n",
    "            print(f'Error encountered with \"{command}\": {stderr}')"
   ]
  },
  {
   "cell_type": "markdown",
   "id": "b69310ed-1a1f-4994-bbc7-8f0c4f8c251a",
   "metadata": {},
   "source": [
    "## Tune host performance"
   ]
  },
  {
   "cell_type": "code",
   "execution_count": null,
   "id": "9f30bbbb-b9fd-40cd-989c-a9ca3dad1568",
   "metadata": {},
   "outputs": [],
   "source": [
    "slice = fablib.get_slice(slice_name)\n",
    "\n",
    "for node in slice.get_nodes():\n",
    "    nic_name = node.get_name() + '_nic'\n",
    "    \n",
    "    # Pin all vCPUs for VM to same Numa node as the component\n",
    "    node.pin_cpu(component_name=nic_name)\n",
    "    \n",
    "    # User can also pass in the range of the vCPUs to be pinned \n",
    "    #node.pin_cpu(component_name=nic_name, cpu_range_to_pin=\"0-3\")\n",
    "    \n",
    "    # Pin memory for VM to same Numa node as the components\n",
    "    #node.numa_tune()\n",
    "    \n",
    "    # Reboot the VM\n",
    "    node.os_reboot()"
   ]
  },
  {
   "cell_type": "code",
   "execution_count": null,
   "id": "d9a8032c-62ce-4935-ae9f-866f9b359d66",
   "metadata": {},
   "outputs": [],
   "source": [
    "# wait for reboot to complete and recover configuration\n",
    "slice = fablib.get_slice(slice_name)\n",
    "\n",
    "# Wait for the SSH Connectivity to be back\n",
    "slice.wait_ssh()"
   ]
  },
  {
   "cell_type": "code",
   "execution_count": null,
   "id": "faa6eb0d-805c-4b8f-9fd8-0d7b6d144954",
   "metadata": {},
   "outputs": [],
   "source": [
    "# Re-configuring the Network and set MTU\n",
    "for node in slice.nodes:\n",
    "    nic_name = node.get_name() + '_nic'\n",
    "    intf = list(filter(lambda x: x.get_name()[-2:] == 'p1', node.get_component(name=nic_name).get_interfaces()))[0]\n",
    "    command = f'sudo ip link set mtu 9000 dev {intf.get_physical_os_interface_name()}'\n",
    "    print(f'Executing \"{command}\" on {node.get_name()}')\n",
    "    node.config()\n",
    "    stdout, stderr = node.execute(command, quiet=True)\n",
    "    if not stderr and len(stderr) > 0:\n",
    "        print(f'Error encountered with \"{command}\": {stderr}')"
   ]
  },
  {
   "cell_type": "markdown",
   "id": "2875b855-fb4c-4e8b-b59e-56b1f96a4fc3",
   "metadata": {},
   "source": [
    "## Test"
   ]
  },
  {
   "cell_type": "code",
   "execution_count": null,
   "id": "93568fa3-a0fc-484e-8693-f54ad79b00d8",
   "metadata": {},
   "outputs": [],
   "source": []
  },
  {
   "cell_type": "markdown",
   "id": "96f25302-060f-44ba-83a1-9c889b3ec9d7",
   "metadata": {},
   "source": [
    "## Manage Slice\n",
    "\n",
    "### Extend"
   ]
  },
  {
   "cell_type": "code",
   "execution_count": null,
   "id": "cecb8f37-d1a5-45f8-8b42-77689e24d4a9",
   "metadata": {},
   "outputs": [],
   "source": [
    "# Set end host to now plus 14 days\n",
    "end_date = (datetime.now(timezone.utc) + timedelta(days=14)).strftime(\"%Y-%m-%d %H:%M:%S %z\")\n",
    "\n",
    "try:\n",
    "    slice = fablib.get_slice(name=slice_name)\n",
    "\n",
    "    slice.renew(end_date)\n",
    "except Exception as e:\n",
    "    print(f\"Exception: {e}\")"
   ]
  },
  {
   "cell_type": "markdown",
   "id": "d8d8158b-1fcc-4865-a675-1b6fc3fe6fe6",
   "metadata": {},
   "source": [
    "### Delete"
   ]
  },
  {
   "cell_type": "code",
   "execution_count": null,
   "id": "a8792044-930a-44eb-9a72-14f952299e88",
   "metadata": {},
   "outputs": [],
   "source": [
    "slice = fablib.get_slice(slice_name)\n",
    "slice.delete()"
   ]
  },
  {
   "cell_type": "code",
   "execution_count": null,
   "id": "5f9be199-b2e3-4f25-80c6-814d736da2f8",
   "metadata": {},
   "outputs": [],
   "source": []
  }
 ],
 "metadata": {
  "kernelspec": {
   "display_name": "Python 3 (ipykernel)",
   "language": "python",
   "name": "python3"
  },
  "language_info": {
   "codemirror_mode": {
    "name": "ipython",
    "version": 3
   },
   "file_extension": ".py",
   "mimetype": "text/x-python",
   "name": "python",
   "nbconvert_exporter": "python",
   "pygments_lexer": "ipython3",
   "version": "3.11.8"
  }
 },
 "nbformat": 4,
 "nbformat_minor": 5
}
