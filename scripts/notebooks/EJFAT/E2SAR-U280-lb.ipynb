{
 "cells": [
  {
   "cell_type": "markdown",
   "id": "69714ad3-0437-4971-8067-2cf91e75cf56",
   "metadata": {},
   "source": [
    "# Using FABRIC Xilinx FPGA U280 with P4\n",
    "\n",
    "Your compute nodes can include FPGAs. These devices are made available as FABRIC components and can be added to your nodes like any other component. Your project must have Component.FPGA permission tag in order to be able to provision them. \n",
    "\n",
    "This example notebook will demonstrate how to reserve and use a single Xilinx FPGA device on FABRIC and use it in conjunction with ConnectX-6 cards. It creates a slice with two nodes - one with FPGA and another with a ConnectX-6 card connected via L2Bridge L2 services. A sample P4 application is loaded using ESnet workflow and a traffic is exchanged between the FPGA and the ConnectX-6 card.\n"
   ]
  },
  {
   "cell_type": "markdown",
   "id": "8f8a7247-578c-438c-9143-973a2adb3a47",
   "metadata": {},
   "source": [
    "## Setup the Experiment"
   ]
  },
  {
   "cell_type": "code",
   "execution_count": null,
   "id": "b4824ebf-e1f7-417c-a25e-60102a719332",
   "metadata": {},
   "outputs": [],
   "source": [
    "from fabrictestbed_extensions.fablib.fablib import FablibManager as fablib_manager\n",
    "\n",
    "fablib = fablib_manager()\n",
    "                     \n",
    "fablib.show_config();"
   ]
  },
  {
   "cell_type": "markdown",
   "id": "fbf0edc2-e71a-4df0-a7d0-60362e9b6089",
   "metadata": {},
   "source": [
    "## Select a site with E2SAR-assigned FPGA\n",
    "\n",
    "The cells below help you create a slice that contains a single node with an attached FPGA. "
   ]
  },
  {
   "cell_type": "code",
   "execution_count": null,
   "id": "27a78a65-2c33-4480-9b09-14eb61f0b004",
   "metadata": {},
   "outputs": [],
   "source": [
    "# FPGA site should only be one of these as these are assigned to the project\n",
    "# 'WASH', 'KANS', or 'LOSA'\n",
    "site='LOSA'\n",
    "\n",
    "FPGA_CHOICE='FPGA_Xilinx_U280'\n",
    "\n",
    "# name the slice and the node \n",
    "slice_name=f'E2SAR U280 LB Slice on {site}'\n",
    "\n",
    "fpga_node_name='LB-node'\n",
    "image = 'docker_ubuntu_20'\n",
    "net_name = '_'.join(['fabnetv4ext', site])\n",
    "\n",
    "print(f'Will create slice \"{slice_name}\" with node \"{fpga_node_name}\"')"
   ]
  },
  {
   "cell_type": "markdown",
   "id": "c7f18dfb-1348-4802-a698-45d999be080a",
   "metadata": {},
   "source": [
    "## Create a slice with a node with FPGA at desired site\n",
    "\n",
    "This slice has two VMs - one with the FPGA and the other with a ConnectX-6 card - we will want to pass traffic between them."
   ]
  },
  {
   "cell_type": "code",
   "execution_count": null,
   "id": "074ca19c-cfa8-4b75-87bd-eb8a4b19f206",
   "metadata": {},
   "outputs": [],
   "source": [
    "# Create Slice. Note that by default submit() call will poll for 360 seconds every 10-20 seconds\n",
    "# waiting for slice to come up. Normal expected time is around 2 minutes. \n",
    "slice = fablib.new_slice(name=slice_name)\n",
    "\n",
    "# Add node with a 100G drive and 8 of CPU cores using Ubuntu 20 image\n",
    "node1 = slice.add_node(name=fpga_node_name, site=site, cores=8, ram=8, disk=100, image=image)\n",
    "# postboot configuration is under 'post-boot' directory\n",
    "node.add_post_boot_upload_directory('post-boot','.')\n",
    "node.add_post_boot_execute(f'chmod +x post-boot/lb-node.sh && ./post-boot/lb-node.sh')\n",
    "# FABNetv4 on shared NIC (to talk to storage)\n",
    "node.add_fabnet()\n",
    "\n",
    "fpga_comp = node1.add_component(model=FPGA_CHOICE, name='fpga1')\n",
    "fpga_p1 = fpga_comp.get_interfaces()[0]\n",
    "fpga_p2 = fpga_comp.get_interfaces()[1]\n",
    "\n",
    "# use FABNetv4Ext to connect port 1\n",
    "net = slice.add_l3network(name=net_name, interfaces=[fpga_p1], type='IPv4Ext')\n",
    "\n",
    "# Submit Slice Request\n",
    "slice.submit();"
   ]
  },
  {
   "cell_type": "markdown",
   "id": "8ab577b5-65cd-47a2-b60d-9d93ff495e9b",
   "metadata": {},
   "source": [
    "# Setup IOMMU and Hugepages\n",
    "For DPDK to function properly we need to setup hugepages and IOMMU on the VM"
   ]
  },
  {
   "cell_type": "code",
   "execution_count": null,
   "id": "d4a9ec37-7a93-4128-8d14-7af8e52fb0a1",
   "metadata": {},
   "outputs": [],
   "source": [
    "slice = fablib.get_slice(name=slice_name)\n",
    "node = slice.get_node(name=fpga_node_name)\n",
    "\n",
    "commands = list()\n",
    "#commands.append(\"sudo sed -i 's/GRUB_CMDLINE_LINUX=\\\"\\\\(.*\\\\)\\\"/GRUB_CMDLINE_LINUX=\\\"\\\\1 amd_iommu=on iommu=pt default_hugepagesz=1G hugepagesz=1G hugepages=8\\\"/' /etc/default/grub\")\n",
    "commands.append(\"sudo sed -i 's/GRUB_CMDLINE_LINUX=\\\"\\\"/GRUB_CMDLINE_LINUX=\\\"amd_iommu=on iommu=pt default_hugepagesz=1G hugepagesz=1G hugepages=8\\\"/' /etc/default/grub\")\n",
    "commands.append(\"sudo grub-mkconfig -o /boot/grub/grub.cfg\")\n",
    "commands.append(\"sudo update-grub\")\n",
    "\n",
    "for command in commands:\n",
    "    print(f'Executing {command}')\n",
    "    stdout, stderr = node1.execute(command)\n",
    "    \n",
    "print('Done')"
   ]
  },
  {
   "cell_type": "markdown",
   "id": "e5ca099b-bf94-4dd1-b53d-a7fee5641be3",
   "metadata": {},
   "source": [
    "Reboot the node (this sometimes generates an EOFError exception - ignore it and continue)"
   ]
  },
  {
   "cell_type": "code",
   "execution_count": null,
   "id": "61775017-9d5c-42ad-a862-9dc6ba1f85b8",
   "metadata": {},
   "outputs": [],
   "source": [
    "reboot = 'sudo reboot'\n",
    "\n",
    "print(reboot)\n",
    "node.execute(reboot)\n",
    "\n",
    "slice.wait_ssh(timeout=360,interval=10,progress=True)\n",
    "\n",
    "print(\"Now testing SSH abilites to reconnect...\",end=\"\")\n",
    "slice.update()\n",
    "slice.test_ssh()\n",
    "print(\"Reconnected!\")"
   ]
  },
  {
   "cell_type": "markdown",
   "id": "1dfe1ab2-a975-4235-85a2-d7ad759144fd",
   "metadata": {},
   "source": [
    "Check that IOMMU was enabled"
   ]
  },
  {
   "cell_type": "code",
   "execution_count": null,
   "id": "6bb04697-5da3-4aee-b7ef-94699fcfdf21",
   "metadata": {},
   "outputs": [],
   "source": [
    "command = 'dmesg | grep -i IOMMU'\n",
    "\n",
    "print('Observe that the modifications to boot configuration took place and IOMMU is detected')\n",
    "stdout, stderr = node1.execute(command)\n",
    "\n",
    "node.config()"
   ]
  },
  {
   "cell_type": "markdown",
   "id": "3c92785a-8c70-4b31-821a-f0e9ee88b489",
   "metadata": {},
   "source": [
    "Disable IOMMU support in VFIO (the passing through doesn't actually work)"
   ]
  },
  {
   "cell_type": "code",
   "execution_count": null,
   "id": "b80a7d00-9b04-4053-bc53-d80410912d77",
   "metadata": {},
   "outputs": [],
   "source": [
    "# Enable unsafe_noiommu_mode for the vfio module\n",
    "command = \"echo 1 | sudo tee /sys/module/vfio/parameters/enable_unsafe_noiommu_mode\"\n",
    "\n",
    "stdout, stderr = node.execute(command)"
   ]
  },
  {
   "cell_type": "markdown",
   "id": "75c55895-8ccd-4592-8494-0b7ebd5eecad",
   "metadata": {},
   "source": [
    "## Program FPGA and run applications on it\n",
    "\n",
    "First we \n",
    "- download pre-built dpdk and xilinx-labtools containers and install their images\n",
    "- download a previously built p4 artifact\n",
    "- checkout the `esnet-smartnic-fw` code, add the artifact and build a configuration of containers we can then execute."
   ]
  },
  {
   "cell_type": "code",
   "execution_count": null,
   "id": "1793ddd6-4366-41e8-a63b-f0a7a03e7d06",
   "metadata": {},
   "outputs": [],
   "source": [
    "#\n",
    "# the following step ONLY works if you attached storage with docker containers and artifacts to the fpga-node\n",
    "# if you did not you need to download/build those by other means (e.g. scp from elsewhere or\n",
    "# install from docker repositories)\n",
    "#\n",
    "\n",
    "if use_storage:\n",
    "    #\n",
    "    # install existing dpdk and xilinx-labtools containers (pre-built) from\n",
    "    # https://github.com/esnet/smartnic-dpdk-docker and https://github.com/esnet/xilinx-labtools-docker\n",
    "    #\n",
    "    dpdk_docker = 'smartnic-dpdk-docker.tar.gz'\n",
    "    xilinx_labtools_docker = 'xilinx-labtools-docker-2023.1_0507_1903.tar.gz'\n",
    "    artifact = '/mnt/xilinx-tools/artifacts/msada/v0/artifacts.au280.p4_only.0.zip'\n",
    "    \n",
    "    commands = [\n",
    "        f\"docker load < /mnt/{mount_point}/esnet-dockers/{dpdk_docker}\",\n",
    "        f\"docker load < /mnt/{mount_point}/esnet-dockers/{xilinx_labtools_docker}\",\n",
    "        f\"docker image ls\",\n",
    "        f\"cp {artifact} ~/\"\n",
    "    ]\n",
    "    for command in commands:\n",
    "        print(f'Executing {command}')\n",
    "        stdout, stderr = node1.execute(command)\n",
    "else:\n",
    "    print('Please build dpdk, xilinx-labtools dockers and install them on fpga-node manually, also place your artifact file in ~/')"
   ]
  },
  {
   "cell_type": "markdown",
   "id": "b614920f-03e4-4a75-ad58-6b8fea554286",
   "metadata": {},
   "source": [
    "Next clone the repo and using externally provided p4 artifact build a container and a compose structure"
   ]
  },
  {
   "cell_type": "code",
   "execution_count": null,
   "id": "43eb5e6d-256f-42a1-9db5-1299917fd287",
   "metadata": {},
   "outputs": [],
   "source": [
    "# clone the esnet-smartnic-fw repo according to instructions https://github.com/esnet/esnet-smartnic-fw/tree/main (as of 09/2023)\n",
    "# create a configuration environment file and build a container\n",
    "\n",
    "# if the artifact file is called artifacts.au280.p4_only.0.zip then it translates into\n",
    "# the following environment parameters\n",
    "\n",
    "# update the env_file values to match the name of the artifact file\n",
    "env_file = \"\"\"\n",
    "SN_HW_VER=0\n",
    "SN_HW_BOARD=au280\n",
    "SN_HW_APP_NAME=p4_only\n",
    "\"\"\"\n",
    "\n",
    "# update the artifact name as needed\n",
    "artifact = '~/artifacts.au280.p4_only.0.zip'\n",
    "\n",
    "commands = [\n",
    "    \"git clone https://github.com/esnet/esnet-smartnic-fw.git\",\n",
    "    \"cd ~/esnet-smartnic-fw; git submodule init; git submodule update\",\n",
    "    f\"cp {artifact} ~/esnet-smartnic-fw/sn-hw/\",\n",
    "    f\"echo '{env_file}' | sudo tee ~/esnet-smartnic-fw/.env\",\n",
    "]\n",
    "\n",
    "for command in commands:\n",
    "    print(f'Executing {command}')\n",
    "    stdout, stderr = node1.execute(command)    "
   ]
  },
  {
   "cell_type": "markdown",
   "id": "85195f80-c2b7-47f3-9228-732160129d32",
   "metadata": {},
   "source": [
    "Now build the artifacts."
   ]
  },
  {
   "cell_type": "code",
   "execution_count": null,
   "id": "abee2d43-f895-49dd-9535-5bf501a9812e",
   "metadata": {},
   "outputs": [],
   "source": [
    "# finally build, logging to a file\n",
    "node_thread = node1.execute_thread(\"cd ~/esnet-smartnic-fw/; ./build.sh\", output_file='esnet-smartnic-fw-docker.log')\n",
    "stdout, stderr = node_thread.result()"
   ]
  },
  {
   "cell_type": "markdown",
   "id": "e38924ad-54e1-490b-994f-090e5237a7ae",
   "metadata": {},
   "source": [
    "You can verify the build step succeeded if you see three docker images (esnet-smartnic-fw, dpdk and xilinx-labtools)"
   ]
  },
  {
   "cell_type": "code",
   "execution_count": null,
   "id": "0c641a8c-e921-4404-aaee-93ed5a6ad3e0",
   "metadata": {},
   "outputs": [],
   "source": [
    "command = \"docker image ls\"\n",
    "stdout, stderr = node1.execute(command)"
   ]
  },
  {
   "cell_type": "markdown",
   "id": "ccbcd4e1-f3a4-4b09-8db3-49aabd53ba6f",
   "metadata": {},
   "source": [
    "### Test FPGA setup by accessing sn-cli under `smartnic-mgr-vfio-unlock` profile\n",
    "\n",
    "We use the ESnet workflow to flash the FPGA and access `sn-cli` application to test whether CMACs are up"
   ]
  },
  {
   "cell_type": "code",
   "execution_count": null,
   "id": "c6c15ba3-cec0-4441-b111-3488c7aceca4",
   "metadata": {},
   "outputs": [],
   "source": [
    "# set the FPGA device and the profile we want to execute\n",
    "env_file = \"\"\"\n",
    "FPGA_PCIE_DEV=0000:00:1f\n",
    "COMPOSE_PROFILES=smartnic-mgr-vfio-unlock\n",
    "\"\"\"\n",
    "\n",
    "# set execution profile to smartnic-mgr-vfio-unlock and run the stack\n",
    "# notice we append to the pre-generated .env (it was generated as part of previous build)\n",
    "commands = [\n",
    "    f\"echo '{env_file}' | tee -a ~/esnet-smartnic-fw/sn-stack/.env\",\n",
    "    \"cd ~/esnet-smartnic-fw/sn-stack; docker compose up -d\"\n",
    "]\n",
    "\n",
    "for command in commands:\n",
    "    print(f'Executing {command}')\n",
    "    stdout, stderr = node1.execute(command)  "
   ]
  },
  {
   "cell_type": "markdown",
   "id": "57a69461-6ddf-412d-a5d4-15b7e729bd32",
   "metadata": {},
   "source": [
    "Run some healthchecks (should not see errors)"
   ]
  },
  {
   "cell_type": "code",
   "execution_count": null,
   "id": "19fe366b-1ae3-4d59-9c56-ea89ef486fab",
   "metadata": {},
   "outputs": [],
   "source": [
    "stdout, stderr = node1.execute(\"cd esnet-smartnic-fw/sn-stack/; docker container logs sn-stack-ubuntu-smartnic-devbind-1\")"
   ]
  },
  {
   "cell_type": "markdown",
   "id": "4f37285a-bd06-4868-a575-7dede7e6d5c1",
   "metadata": {},
   "source": [
    "### Test sn-cli, configure CMACs\n",
    "\n",
    "Should see normal looking output. If everything is 0x0000 or 0xffff, the binding to FPGA from VFIO did not work."
   ]
  },
  {
   "cell_type": "code",
   "execution_count": null,
   "id": "cdb311d0-9ec5-4e5e-a634-d0b5b1edd2ec",
   "metadata": {},
   "outputs": [],
   "source": [
    "command = \"cd esnet-smartnic-fw/sn-stack/; docker compose exec smartnic-fw sn-cli dev version\"\n",
    "\n",
    "stdout, stderr = node1.execute(command)"
   ]
  },
  {
   "cell_type": "markdown",
   "id": "3dc1bc46-71fb-4b2b-ad33-358fd434d870",
   "metadata": {},
   "source": [
    "Let's configure CMACs so we can test pktgen. It is important that at the end you see `MAC ENABLED/PHY UP -> UP` for both CMACs Rx and Tx. If not, it is possible FEC is not turned off in the dataplane switch."
   ]
  },
  {
   "cell_type": "code",
   "execution_count": null,
   "id": "ad483e9b-d4d6-4271-95d2-cae66bcd88b4",
   "metadata": {},
   "outputs": [],
   "source": [
    "# upload sn-cli config script\n",
    "sn_cli_script = 'sn-cli-setup'\n",
    "\n",
    "result = node1.upload_file(sn_cli_script, sn_cli_script)\n",
    "\n",
    "commands = [\n",
    "    f\"chmod a+x {sn_cli_script}\",\n",
    "    f\"mv {sn_cli_script} ~/esnet-smartnic-fw/sn-stack/scratch\",\n",
    "    f\"cd ~/esnet-smartnic-fw/sn-stack/; docker compose exec smartnic-fw scratch/{sn_cli_script}\"\n",
    "]\n",
    "\n",
    "for command in commands:\n",
    "    print(f'Executing {command}')\n",
    "    stdout, stderr = node1.execute(command)  "
   ]
  },
  {
   "cell_type": "markdown",
   "id": "8ca22dc5-ef8b-4ff5-9899-8b3ff16a62e1",
   "metadata": {},
   "source": [
    "### Try pktgen\n",
    "\n",
    "First we shutdown the docker stack, modify the profile to be `smartnic-mgr-dpdk-manual`, restart the stack. Then we access pktgen application and configure it to send some packets, finally we use the second host with CX-6 cards to snoop (tcpdump) and receive those packets."
   ]
  },
  {
   "cell_type": "code",
   "execution_count": null,
   "id": "c30a8a71-aa58-4d98-8a81-2044ff13613a",
   "metadata": {},
   "outputs": [],
   "source": [
    "# bring down the stack\n",
    "\n",
    "command = \"cd esnet-smartnic-fw/sn-stack/; docker compose down\"\n",
    "\n",
    "stdout, stderr = node1.execute(command)"
   ]
  },
  {
   "cell_type": "markdown",
   "id": "fcd89c9b-0b06-4c88-b35f-7a3db4cee467",
   "metadata": {},
   "source": [
    "Modify the profile in the configuration .env file"
   ]
  },
  {
   "cell_type": "code",
   "execution_count": null,
   "id": "76bfe50c-d564-40a7-b65d-75d1d736f61b",
   "metadata": {},
   "outputs": [],
   "source": [
    "# modify the profile to be `smartnic-mgr-dpdk-manual`\n",
    "commands = [\n",
    "    \"sed -i 's/COMPOSE_PROFILES=smartnic-mgr-vfio-unlock/COMPOSE_PROFILES=smartnic-mgr-dpdk-manual/' ~/esnet-smartnic-fw/sn-stack/.env\",\n",
    "    \"tail ~/esnet-smartnic-fw/sn-stack/.env\"\n",
    "]\n",
    "\n",
    "for command in commands:\n",
    "    print(f'Executing {command}')\n",
    "    stdout, stderr = node1.execute(command)  "
   ]
  },
  {
   "cell_type": "markdown",
   "id": "87ebec5f-7136-4a31-a88f-aae6ed11683a",
   "metadata": {},
   "source": [
    "Restart the stack"
   ]
  },
  {
   "cell_type": "code",
   "execution_count": null,
   "id": "da187043-db20-455c-ace1-6ba322bdcc0e",
   "metadata": {},
   "outputs": [],
   "source": [
    "command = \"cd ~/esnet-smartnic-fw/sn-stack; docker compose up -d\"\n",
    "stdout, stderr = node1.execute(command)\n"
   ]
  },
  {
   "cell_type": "markdown",
   "id": "447153dd-cfa0-496c-a606-8fd571b743de",
   "metadata": {},
   "source": [
    "The next step should be executed from the console. \n",
    "1. SSH into fpga-node\n",
    "2. `cd ~/esnet-smartnic-fw/sn-stack`\n",
    "3. `docker compose exec smartnic-dpdk bash`\n",
    "4. `pktgen -a $SN_PCIE_DEV.0 -a $SN_PCIE_DEV.1 -l 3-7 -n 3 -d librte_net_qdma.so --file-prefix $SN_PCIE_DEV- -- -v -m [4:5].0 -m [6:7].1`\n",
    "\n",
    "(pktgen should properly initialize, then at the pktgen prompt issue the following commands, which set unicast MAC addresses, set frame size to 128, 1% framerate, i.e. 1Gbps and start sending packets out of both ports)\n",
    "\n",
    "5. Execute the following inside pktgen to start unicast packet flows on both CMACs\n",
    "```\n",
    "set 0-1 dst mac 04:16:17:18:19:1a\n",
    "set 0-1 src mac 14:16:17:18:19:10\n",
    "set 0-1 size 128\n",
    "set 0-1 rate 1\n",
    "start 0\n",
    "start 1\n",
    "```\n",
    "Next on cx-6-node enable the dataplane interfaces."
   ]
  },
  {
   "cell_type": "code",
   "execution_count": null,
   "id": "64b62627-1685-48ba-826d-8394081fd6f1",
   "metadata": {},
   "outputs": [],
   "source": [
    "node2 = slice.get_node(name=cx6_node_name)\n",
    "cx_6_port0 = \"ens7\"\n",
    "cx_6_port1 = \"ens8\"\n",
    "\n",
    "commands = [\n",
    "    f\"sudo ip link set up {cx_6_port0}\",\n",
    "    f\"sudo ip link set up {cx_6_port1}\"\n",
    "]\n",
    "\n",
    "for command in commands:\n",
    "    print(f'Executing {command}')\n",
    "    stdout, stderr = node2.execute(command)  "
   ]
  },
  {
   "cell_type": "markdown",
   "id": "d04dd7a0-50a3-450d-8011-412ce7d0faca",
   "metadata": {},
   "source": [
    "Try tcpdump on appropriate CX6 interfaces."
   ]
  },
  {
   "cell_type": "code",
   "execution_count": null,
   "id": "befc2464-eb6a-4058-85e3-93f95b31b968",
   "metadata": {},
   "outputs": [],
   "source": [
    "pktcount = 10\n",
    "print(f\"LISTENING ON {cx_6_port0}\")\n",
    "command = f\"sudo tcpdump -nlvvxx -i {cx_6_port0} -c {pktcount} tcp\"\n",
    "\n",
    "stdout, stderr = node2.execute(command)\n",
    "print(\"LISTENING ON {cx_6_port1}\")\n",
    "command = f\"sudo tcpdump -nlvvxx -i {cx_6_port1} -c {pktcount} tcp\"\n",
    "\n",
    "stdout, stderr = node2.execute(command)"
   ]
  },
  {
   "cell_type": "markdown",
   "id": "a39ee703-100f-49a9-b93d-9e01ac6b5797",
   "metadata": {},
   "source": [
    "Bring the stack down"
   ]
  },
  {
   "cell_type": "code",
   "execution_count": null,
   "id": "3385b637-2ab8-4f8a-a751-1621114ab68e",
   "metadata": {},
   "outputs": [],
   "source": [
    "command = \"cd ~/esnet-smartnic-fw/sn-stack; docker compose down\"\n",
    "\n",
    "stdout, stderr = node1.execute(command)"
   ]
  },
  {
   "cell_type": "markdown",
   "id": "c10cb73a-6f70-4a6b-a5cf-f832a130421d",
   "metadata": {},
   "source": [
    "## Extend the slice (as needed)\n",
    "\n",
    "If you need to extend the storage slice, you can just execute the following two cells. They display the slice expiration date and optionally extend by 2 weeeks. "
   ]
  },
  {
   "cell_type": "code",
   "execution_count": null,
   "id": "9b1e53d4-fe20-449b-a61c-061e3eb967bf",
   "metadata": {},
   "outputs": [],
   "source": [
    "slice = fablib.get_slice(name=slice_name)\n",
    "a = slice.show()\n",
    "nets = slice.list_networks()\n",
    "nodes = slice.list_nodes()"
   ]
  },
  {
   "cell_type": "markdown",
   "id": "122cdde3-5f47-41fc-bd07-0ff75d0a415c",
   "metadata": {},
   "source": [
    "Renew the slice"
   ]
  },
  {
   "cell_type": "code",
   "execution_count": null,
   "id": "50a090a0-bb22-4425-832c-52921d463a2a",
   "metadata": {},
   "outputs": [],
   "source": [
    "from datetime import datetime\n",
    "from datetime import timezone\n",
    "from datetime import timedelta\n",
    "\n",
    "# Set end host to now plus 14 days\n",
    "end_date = (datetime.now(timezone.utc) + timedelta(days=14)).strftime(\"%Y-%m-%d %H:%M:%S %z\")\n",
    "\n",
    "try:\n",
    "    slice = fablib.get_slice(name=slice_name)\n",
    "\n",
    "    slice.renew(end_date)\n",
    "except Exception as e:\n",
    "    print(f\"Exception: {e}\")"
   ]
  },
  {
   "cell_type": "markdown",
   "id": "a833ba11-262c-4700-b8e6-5fb419345718",
   "metadata": {},
   "source": [
    "## Delete the Slice (as needed)\n",
    "\n",
    "Please delete your slice when you are done with your experiment.\n"
   ]
  },
  {
   "cell_type": "code",
   "execution_count": null,
   "id": "7a946d9a-1a4a-426b-9df0-64ebd4afa18d",
   "metadata": {},
   "outputs": [],
   "source": [
    "slice = fablib.get_slice(name=slice_name)\n",
    "slice.delete()"
   ]
  },
  {
   "cell_type": "code",
   "execution_count": null,
   "id": "86d789f3-151d-421e-8e3e-84ed3e16ec6d",
   "metadata": {},
   "outputs": [],
   "source": []
  }
 ],
 "metadata": {
  "kernelspec": {
   "display_name": "Python 3 (ipykernel)",
   "language": "python",
   "name": "python3"
  },
  "language_info": {
   "codemirror_mode": {
    "name": "ipython",
    "version": 3
   },
   "file_extension": ".py",
   "mimetype": "text/x-python",
   "name": "python",
   "nbconvert_exporter": "python",
   "pygments_lexer": "ipython3",
   "version": "3.12.3"
  }
 },
 "nbformat": 4,
 "nbformat_minor": 5
}
