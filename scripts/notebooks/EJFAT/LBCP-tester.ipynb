{
 "cells": [
  {
   "cell_type": "markdown",
   "id": "56b8f888-5788-4dfe-ad0a-cb5b0e567188",
   "metadata": {},
   "source": [
    "# EJFAT LB Control Plane Tester\n",
    "\n",
    "This notebook stands up a slice of 3 nodes - sender, receiver and cpnode. The control plane daemon is deployed on the `cpnode` node in a 'mock' configuration (with no FPGA). DAQ and worker node code can be deployed on `sender` and `receiver` nodes for testing. The slice uses 'shared' and is created within a single FABRIC site for simplicity. It uses a single L2 bridge connection with RFC1918 IPv4 addressing, allowing all nodes to talk to each other. It is possible to run the dataplane assuming a single worker can keep up with a single sender since no actual load balancer is present in this configuration.\n",
    "\n",
    "## Preparation\n",
    "\n",
    "- Be sure to download the latest [UDPLBd release](https://github.com/esnet/udplbd) (since the repo is private it is hard to download it from inside the slice) and put it under `code/` folder next to this notebook.\n",
    "- Update the name of the downloaded file (`udplbd_file`) in the first cell as needed"
   ]
  },
  {
   "cell_type": "markdown",
   "id": "58b0bb3e-52ed-48c7-98ae-b51e62af39e4",
   "metadata": {},
   "source": [
    "## Preamble"
   ]
  },
  {
   "cell_type": "code",
   "execution_count": null,
   "id": "2d4a3378-dd68-4685-b0d2-4cae8ad462b8",
   "metadata": {},
   "outputs": [],
   "source": [
    "# Preamble\n",
    "from datetime import datetime\n",
    "from datetime import timezone\n",
    "from datetime import timedelta\n",
    "\n",
    "from fabrictestbed_extensions.fablib.fablib import FablibManager as fablib_manager\n",
    "\n",
    "from ipaddress import ip_address, IPv4Address, IPv6Address, IPv4Network, IPv6Network\n",
    "import ipaddress\n",
    "\n",
    "fablib = fablib_manager()             \n",
    "fablib.show_config();\n",
    "\n",
    "# variable settings\n",
    "slice_name = 'UDP LB Control Plane Testing slice'\n",
    "# for each node specify IP address (assuming /24), OS image\n",
    "# note that most of the keys in these dictionaries map directly\n",
    "# onto parameters to add_node()\n",
    "node_config = {\n",
    "    'sender': {\n",
    "        'ip':'192.168.0.1', \n",
    "        'image':'default_ubuntu_22',\n",
    "        'cores': 8,\n",
    "        'ram': 8,\n",
    "        'disk': 100 },\n",
    "    'recver': {\n",
    "        'ip':'192.168.0.2', \n",
    "        'image':'default_ubuntu_22',\n",
    "        'cores':8,\n",
    "        'ram': 8,\n",
    "        'disk': 100 },\n",
    "    'cpnode': {\n",
    "        'ip':'192.168.0.3', \n",
    "        'image':'docker_ubuntu_22',\n",
    "        'cores':8,\n",
    "        'ram': 8,\n",
    "        'disk': 100 },\n",
    "}\n",
    "# skip these keys as they are not part of add_node params\n",
    "skip_keys = ['ip']\n",
    "# this is the NIC to use\n",
    "nic_model = 'NIC_Basic'\n",
    "# the subnet should match IPs\n",
    "subnet = IPv4Network(\"192.168.1.0/24\")\n",
    "\n",
    "# if you want to force a site instead of using random\n",
    "site_override = 'KANS'\n",
    "#site_override = None\n",
    "\n",
    "# UDPLBd code location in the Jupyter container\n",
    "udplbd_file = 'code/udplbd-main-05-17-24.zip'"
   ]
  },
  {
   "cell_type": "markdown",
   "id": "d41b813d-21d5-4b18-a3f7-fd0f9f4d42c8",
   "metadata": {},
   "source": [
    "## Create the slice"
   ]
  },
  {
   "cell_type": "code",
   "execution_count": null,
   "id": "43dbf90d-5990-4453-9ae9-3def21b5910d",
   "metadata": {},
   "outputs": [],
   "source": [
    "# list all slices I have running\n",
    "output_dataframe = fablib.list_slices(output='pandas')\n",
    "if output_dataframe:\n",
    "    print(output_dataframe)\n",
    "else:\n",
    "    print('No active slices under this project')"
   ]
  },
  {
   "cell_type": "code",
   "execution_count": null,
   "id": "f956da26-1ebe-403b-a0aa-eedca260807f",
   "metadata": {},
   "outputs": [],
   "source": [
    "# List available images\n",
    "available_images = fablib.get_image_names()\n",
    "\n",
    "print(f'Available images are: {available_images}')"
   ]
  },
  {
   "cell_type": "code",
   "execution_count": null,
   "id": "415878c8-815b-4b3d-a1df-65ec5bc5f637",
   "metadata": {},
   "outputs": [],
   "source": [
    "# find an available site in continental US\n",
    "lon_west=-124.3993243\n",
    "lon_east=-69.9721573\n",
    "\n",
    "# getting a random site make take a bit of time\n",
    "if not site_override:\n",
    "    selected_site = fablib.get_random_site(filter_function=lambda x: x['location'][1] < lon_east\n",
    "                                              and x['location'][1] > lon_west) \n",
    "else:\n",
    "    selected_site = site_override\n",
    "\n",
    "if selected_site:\n",
    "    print(f'Selected site is {selected_site}')\n",
    "else:\n",
    "    print('Unable to find a site matching the requirements')\n",
    "\n",
    "# write selected site into node attributes\n",
    "for n in node_config:\n",
    "    node_config[n]['site'] = selected_site\n",
    "    "
   ]
  },
  {
   "cell_type": "code",
   "execution_count": null,
   "id": "bd1b7969-df0d-4c8e-b909-acc30dc8c16e",
   "metadata": {},
   "outputs": [],
   "source": [
    "# build a slice\n",
    "slice = fablib.new_slice(name=slice_name)\n",
    "\n",
    "# create a network\n",
    "net1 = slice.add_l2network(name='site_bridge_net', subnet=subnet)\n",
    "\n",
    "nodes = dict()\n",
    "# create  nodes for sending and receiving with a selected network card\n",
    "# use subnet address assignment\n",
    "for node_name, node_attribs in node_config.items():\n",
    "    print(f\"{node_name=} {node_attribs['ip']}\")\n",
    "    nodes[node_name] = slice.add_node(name=node_name, **{x: node_attribs[x] for x in node_attribs if x not in skip_keys})\n",
    "    nic_interface = nodes[node_name].add_component(model=nic_model, name='_'.join([node_name, nic_model, 'nic'])).get_interfaces()[0]\n",
    "    net1.add_interface(nic_interface)\n",
    "    nic_interface.set_mode('config')\n",
    "    nic_interface.set_ip_addr(node_attribs['ip'])\n",
    "    # postboot configuration is under 'post-boot' directory\n",
    "    nodes[node_name].add_post_boot_upload_directory('post-boot','.')\n",
    "    nodes[node_name].add_post_boot_execute(f'chmod +x post-boot/{node_name}.sh && ./post-boot/{node_name}.sh')\n",
    "\n",
    "# Submit the slice\n",
    "slice.submit();"
   ]
  },
  {
   "cell_type": "markdown",
   "id": "9fa3cdec-49f9-4c3c-89f8-b441e37d6302",
   "metadata": {},
   "source": [
    "## Start the container"
   ]
  },
  {
   "cell_type": "code",
   "execution_count": null,
   "id": "591e3c12-a429-4cd7-a602-7545b4e4b074",
   "metadata": {},
   "outputs": [],
   "source": [
    "# get slice details (if not creating new)\n",
    "slice = fablib.get_slice(name=slice_name)\n",
    "a = slice.show()\n",
    "nets = slice.list_networks()\n",
    "nodes = slice.list_nodes()\n",
    "\n",
    "cpnode = slice.get_node(name=\"cpnode\")    "
   ]
  },
  {
   "cell_type": "code",
   "execution_count": null,
   "id": "41a24024-c688-4100-b453-e34d0fe6ed4f",
   "metadata": {},
   "outputs": [],
   "source": [
    "# check if any dockers are running already and that we have compose and buildx installed by post-boot script\n",
    "commands = [\n",
    "    'docker container ls',\n",
    "    'docker compose version',\n",
    "    'docker buildx version'\n",
    "]\n",
    "for command in commands:\n",
    "    print(f'\\tExecuting \"{command}\"')\n",
    "    #stdout, stderr = cpnode.execute(command, quiet=True, output_file=node.get_name() + '_install.log')\n",
    "    stdout, stderr = cpnode.execute(command)\n",
    "    if not stderr and len(stderr) > 0:\n",
    "        print(f'Error encountered with \"{command}\": {stderr}')"
   ]
  },
  {
   "cell_type": "code",
   "execution_count": null,
   "id": "6f156f84-6f00-4127-b563-58094206f3c0",
   "metadata": {},
   "outputs": [],
   "source": [
    "# upload the mock config file for UDPLBd\n",
    "result = cpnode.upload_file('config/lb_mock.yml','lb_mock.yml')\n",
    "\n",
    "# upload the UDPLBd zip file (from github)\n",
    "# note that UDPLBd repo is private, so you need to download whatever release you need as .zip\n",
    "# under 'code' directory in your Jupyter continer\n",
    "result = cpnode.upload_file(udplbd_file, 'udplbd-main.zip')"
   ]
  },
  {
   "cell_type": "code",
   "execution_count": null,
   "id": "c4cd079c-97cd-41cb-8358-509a81c6992b",
   "metadata": {},
   "outputs": [],
   "source": [
    "# start the UDPLBd container\n",
    "\n",
    "commands = [\n",
    "    f'unzip udplbd-main.zip',\n",
    "    f'mv udplbd-main udplbd',\n",
    "    f'cp lb_mock.yml ./udplbd/etc/config.yml',\n",
    "    f'cd udplbd; docker compose up -d'\n",
    "]\n",
    "\n",
    "for command in commands:\n",
    "    print(f'\\tExecuting \"{command}\"')\n",
    "    #stdout, stderr = cpnode.execute(command, quiet=True, output_file=node.get_name() + '_install.log')\n",
    "    stdout, stderr = cpnode.execute(command)\n",
    "    if not stderr and len(stderr) > 0:\n",
    "        print(f'Error encountered with \"{command}\": {stderr}')"
   ]
  },
  {
   "cell_type": "code",
   "execution_count": null,
   "id": "5f8d2487-e135-440b-9c43-4e6a65b06c11",
   "metadata": {},
   "outputs": [],
   "source": [
    "# check the logs\n",
    "commands = [\n",
    "    'docker compose ls',\n",
    "    'cd udplbd; docker compose logs'\n",
    "]\n",
    "\n",
    "for command in commands:\n",
    "    print(f'\\tExecuting \"{command}\"')\n",
    "    #stdout, stderr = cpnode.execute(command, quiet=True, output_file=node.get_name() + '_install.log')\n",
    "    stdout, stderr = cpnode.execute(command)\n",
    "    if not stderr and len(stderr) > 0:\n",
    "        print(f'Error encountered with \"{command}\": {stderr}')"
   ]
  },
  {
   "cell_type": "markdown",
   "id": "c2a91bdf-ad59-45ab-b29c-1e1d3d4fa005",
   "metadata": {},
   "source": [
    "## Manage the slice\n",
    "\n",
    "### Extend"
   ]
  },
  {
   "cell_type": "code",
   "execution_count": null,
   "id": "d4c55dd8-6b83-4711-80e1-4d73d3de04d1",
   "metadata": {},
   "outputs": [],
   "source": [
    "# Set end host to now plus 14 days\n",
    "end_date = (datetime.now(timezone.utc) + timedelta(days=14)).strftime(\"%Y-%m-%d %H:%M:%S %z\")\n",
    "\n",
    "try:\n",
    "    slice = fablib.get_slice(name=slice_name)\n",
    "\n",
    "    slice.renew(end_date)\n",
    "except Exception as e:\n",
    "    print(f\"Exception: {e}\")"
   ]
  },
  {
   "cell_type": "markdown",
   "id": "3edd1dbd-d502-461b-ad40-c589d7e32826",
   "metadata": {},
   "source": [
    "### Delete"
   ]
  },
  {
   "cell_type": "code",
   "execution_count": null,
   "id": "9f88bb58-a197-4853-9294-c90e2b250cc8",
   "metadata": {},
   "outputs": [],
   "source": [
    "slice = fablib.get_slice(slice_name)\n",
    "slice.delete()"
   ]
  },
  {
   "cell_type": "code",
   "execution_count": null,
   "id": "cc7b909f-107f-4ff6-9fe1-baa14377fffe",
   "metadata": {},
   "outputs": [],
   "source": []
  }
 ],
 "metadata": {
  "kernelspec": {
   "display_name": "Python 3 (ipykernel)",
   "language": "python",
   "name": "python3"
  },
  "language_info": {
   "codemirror_mode": {
    "name": "ipython",
    "version": 3
   },
   "file_extension": ".py",
   "mimetype": "text/x-python",
   "name": "python",
   "nbconvert_exporter": "python",
   "pygments_lexer": "ipython3",
   "version": "3.11.8"
  }
 },
 "nbformat": 4,
 "nbformat_minor": 5
}
