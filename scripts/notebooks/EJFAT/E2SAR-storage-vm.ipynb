{
 "cells": [
  {
   "cell_type": "markdown",
   "metadata": {
    "tags": []
   },
   "source": [
    "# Persistent Storage for FPGA tools\n",
    "\n",
    "This notebook shows how to create, re-create, renew and use a slice with a VM connected to FABNetv4 network on EDC on which you can store FPGA tool packages - the transfer of Xilinx tools into VMs can take a substantial amount of time, so it is recommended that projects using FPGAs put their tools into a peristent volume either on a selected site or on centrally-located EDC. The tools are licensed, so it is not advisable to put them in open access. This notebook shows how to deploy an instance of NGINX webserver that adds a password protection to static content retrieved from the node. \n",
    "\n",
    "Once this slice is created, it can persist or even go away, however since the volume is persistent, any packages or files you put on it will be preserved and you can always use this notebook to re-attach a new VM to the storage and continue storing those file. You can transfer the packages into this slice using SSH tunnels, and then use a simple curl tool from any VM in FABRIC attached to fabnet to get the packages again and again over high-bandwidth internal dataplane.\n",
    "\n",
    "Depending on what you want to do with the slice (create/recreate/renew), you may execute all or a subset of the steps below. \n",
    "\n",
    "<div>\n",
    "    <img src=\"figs/storage-slice.png\" width=500>\n",
    "</div>\n"
   ]
  },
  {
   "cell_type": "markdown",
   "metadata": {
    "tags": []
   },
   "source": [
    "## Import the FABlib Library"
   ]
  },
  {
   "cell_type": "code",
   "execution_count": null,
   "metadata": {
    "tags": []
   },
   "outputs": [],
   "source": [
    "from fabrictestbed_extensions.fablib.fablib import FablibManager as fablib_manager\n",
    "\n",
    "fablib = fablib_manager()\n",
    "                         \n",
    "fablib.show_config();"
   ]
  },
  {
   "cell_type": "markdown",
   "metadata": {},
   "source": [
    "## Initialize slice parameters\n",
    "\n",
    "You always want to execute this cell for any of the cells below to work. Some cells below can be skipped depending on what you are trying to do."
   ]
  },
  {
   "cell_type": "code",
   "execution_count": null,
   "metadata": {},
   "outputs": [],
   "source": [
    "# Replace with your project's volume name and site\n",
    "site = \"EDC\"\n",
    "storage_name = \"ejfat-data\"\n",
    "node_name = \"Storage\"\n",
    "slice_name = \"Xilinx Tools Storage Slice\"\n",
    "mount_point = \"ejfat-data\"\n",
    "\n",
    "# this is the username, password to be used when downloading packages from this node. Change the password!\n",
    "nginx_user = \"fpga_tools\"\n",
    "nginx_password = \"changemenow123\""
   ]
  },
  {
   "cell_type": "markdown",
   "metadata": {
    "tags": []
   },
   "source": [
    "##  Create the Storage Slice"
   ]
  },
  {
   "cell_type": "markdown",
   "metadata": {},
   "source": [
    "Create the new slice with a single VM attached to storage and with FABNetv4 auto-configured."
   ]
  },
  {
   "cell_type": "code",
   "execution_count": null,
   "metadata": {
    "tags": []
   },
   "outputs": [],
   "source": [
    "# Create a slice\n",
    "slice = fablib.new_slice(name=slice_name)\n",
    "\n",
    "# Add a node with storage and FABNetv4\n",
    "node = slice.add_node(name=node_name, site=site)\n",
    "node.add_storage(name=storage_name)\n",
    "node.add_fabnet()\n",
    "\n",
    "# Submit the slice\n",
    "slice.submit();"
   ]
  },
  {
   "cell_type": "markdown",
   "metadata": {},
   "source": [
    "## Step 3: Inspect the slice and get IP address information\n",
    "\n",
    "If slice already exists, you can just execute this cell assuming Steps 0 and 1 have been executed."
   ]
  },
  {
   "cell_type": "code",
   "execution_count": null,
   "metadata": {},
   "outputs": [],
   "source": [
    "slice = fablib.get_slice(slice_name)\n",
    "\n",
    "node = slice.get_node(name=node_name)              \n",
    "\n",
    "node_addr = node.get_interface(network_name=f'FABNET_IPv4_{node.get_site()}').get_ip_addr()\n",
    "\n",
    "slice.show()\n",
    "slice.list_nodes()\n",
    "slice.list_networks()\n",
    "print(f'Node FABNetV4Ext IP Address is {node_addr}')"
   ]
  },
  {
   "cell_type": "markdown",
   "metadata": {
    "tags": []
   },
   "source": [
    "## Format the Volume (only run this the first time you attach the volume, skip otherwise)\n",
    "\n",
    "The first time you use your persistent volume it will be a raw block device that needs to be formated."
   ]
  },
  {
   "cell_type": "code",
   "execution_count": null,
   "metadata": {
    "tags": []
   },
   "outputs": [],
   "source": [
    "node = slice.get_node(node_name)\n",
    "\n",
    "storage = node.get_storage(storage_name)\n",
    "\n",
    "print(f\"Storage Device Name: {storage.get_device_name()}\")  \n",
    "\n",
    "stdout,stderr = node.execute(f\"sudo mkfs.ext4 {storage.get_device_name()}\")"
   ]
  },
  {
   "cell_type": "markdown",
   "metadata": {},
   "source": [
    "## Mount the Volume\n",
    "\n",
    "After you format you volume, you can mount it.  The data in the volume is persisent.  On subseqent uses of the volume, you can mount it and access perviously stored data without formating."
   ]
  },
  {
   "cell_type": "code",
   "execution_count": null,
   "metadata": {
    "tags": []
   },
   "outputs": [],
   "source": [
    "node = slice.get_node(node_name)\n",
    "storage = node.get_storage(storage_name)\n",
    "\n",
    "stdout,stderr = node.execute(f\"sudo mkdir /mnt/{mount_point}; \"\n",
    "                     f\"sudo mount {storage.get_device_name()} /mnt/{mount_point}; \"\n",
    "                     f\"df -h\")"
   ]
  },
  {
   "cell_type": "markdown",
   "metadata": {},
   "source": [
    "## Install and configure NGINX"
   ]
  },
  {
   "cell_type": "markdown",
   "metadata": {},
   "source": [
    "Now we install and configure NGINX with a password-protected static content directory. You can transfer the files into this VM via e.g. the bastion host or in some other way, place them into the directory and then from any host within FABRIC with a fabnet network service you can reach this host to retrieve the files. "
   ]
  },
  {
   "cell_type": "code",
   "execution_count": null,
   "metadata": {},
   "outputs": [],
   "source": [
    "command = \"sudo dnf install -y nginx httpd-tools\"\n",
    "\n",
    "print('Installing NGINX and apache tools')\n",
    "stdout, stderr = node.execute(command)\n",
    "\n",
    "command = \"sudo systemctl enable nginx\"\n",
    "print('Enabling NGINX on reboot')\n",
    "stdout, stderr = node.execute(command)"
   ]
  },
  {
   "cell_type": "markdown",
   "metadata": {},
   "source": [
    "Create a user with a password to protect the download directory"
   ]
  },
  {
   "cell_type": "code",
   "execution_count": null,
   "metadata": {},
   "outputs": [],
   "source": [
    "command = f\"sudo htpasswd -bc2 /etc/nginx/htpasswd {nginx_user} {nginx_password}\"\n",
    "\n",
    "print('Setting username and password for downloads')\n",
    "stdout, stderr = node.execute(command)"
   ]
  },
  {
   "cell_type": "markdown",
   "metadata": {},
   "source": [
    "Configure NGINX to use SSL with a self-signed cert for static downloads from the mount point where the storage is mounted to."
   ]
  },
  {
   "cell_type": "code",
   "execution_count": null,
   "metadata": {},
   "outputs": [],
   "source": [
    "# install SSL server configuration\n",
    "node.upload_file('config/ssl-server.conf', 'ssl-server.conf')\n",
    "command = \"sudo mv ssl-server.conf /etc/nginx/conf.d/; sudo chown nginx:nginx /etc/nginx/conf.d/ssl-server.conf\"\n",
    "stdout, stderr = node.execute(command)\n",
    "\n",
    "# generate a self-signed key/cert\n",
    "command = 'sudo openssl req -x509 -nodes -days 3650 -newkey rsa:2048 -keyout /etc/nginx/server.key -out /etc/nginx/server.crt ' \\\n",
    "          '-subj=\"/C=US/ST=NC/L=Chapel Hill/O=UNC/OU=FABRIC/CN=fabric-testbed.net\"; ' \\\n",
    "          'sudo chown nginx:nginx /etc/nginx/server.crt /etc/nginx/server.key'\n",
    "stdout, stderr = node.execute(command)\n",
    "\n",
    "# install location configuration\n",
    "nginx_config = \"\"\"\n",
    "location /ejfat-data/ {\n",
    "      alias /mnt/\"\"\" + mount_point + \"\"\"/static/;\n",
    "      auth_basic \"Restricted Access!\";     \n",
    "      auth_basic_user_file htpasswd;\n",
    "      autoindex on;\n",
    "      autoindex_format json;\n",
    "      \n",
    "      \n",
    "      dav_methods PUT DELETE MKCOL COPY MOVE;\n",
    "      dav_access user:rw group:rw all:rw;\n",
    "      client_max_body_size 0;\n",
    "      create_full_put_path on;\n",
    "      client_body_temp_path /tmp/nginx-uploads;\n",
    "}\n",
    "\"\"\"\n",
    "# transfer the config to the node\n",
    "command = f\"echo '{nginx_config}' | sudo tee /etc/nginx/default.d/static.conf\"\n",
    "stdout, stderr = node.execute(command)\n",
    "\n",
    "# create a /mnt/ejfat-data/static/ directory if it doesn't exist already for staging files\n",
    "command =f\"sudo mkdir -p /mnt/{mount_point}/static; sudo chown rocky:rocky /mnt/{mount_point}/static; chmod go+w /mnt/{mount_point}/static\"\n",
    "stdout, stderr = node.execute(command)\n",
    "\n",
    "# create a /mnt/ejfat-data/static/smartnic-docker-images direcory for ESnet workflow files\n",
    "command =f\"sudo mkdir -p /mnt/{mount_point}/static/smartnic-docker-images; sudo chown rocky:rocky /mnt/{mount_point}/static/smartnic-docker-images; chmod go+w /mnt/{mount_point}/static/smartnic-docker-images\"\n",
    "stdout, stderr = node.execute(command)\n",
    "\n",
    "# create top-level directory for user artifacts\n",
    "command =f\"sudo mkdir -p /mnt/{mount_point}/static/artifacts; sudo chown rocky:rocky /mnt/{mount_point}/static/artifacts; chmod go+w /mnt/{mount_point}/static/artifacts\"\n",
    "stdout, stderr = node.execute(command)"
   ]
  },
  {
   "cell_type": "markdown",
   "metadata": {},
   "source": [
    "By default SELinux does not want to let NGINX read files from the attached persistent volume. So we need to make it a bit more permissive. The references to the process are here:\n",
    "- https://www.nginx.com/blog/using-nginx-plus-with-selinux/\n",
    "- https://relativkreativ.at/articles/how-to-compile-a-selinux-policy-package "
   ]
  },
  {
   "cell_type": "code",
   "execution_count": null,
   "metadata": {},
   "outputs": [],
   "source": [
    "# transfer SELinux policy module file to the node, compile and install it\n",
    "# the file was originally created using `grep nginx /var/log/audit/audit.log | audit2allow -m nginx > nginx.te` \n",
    "# To see if SELinux is causing problems try 'grep nginx /var/log/audit.log | grep denied' and see if it returns anything.\n",
    "# This policy allows nginx to read files and directories in general locations, including the attached storage\n",
    "# Note that if you have issues with nginx not being able to read files, SELinux is likely to blame\n",
    "# change `error_log /var/log/nginx/error.log;` to `error_log /var/log/nginx/error.log debug;` in /etc/nginx/nginx.conf\n",
    "# and then restart NGINX to see what the problem may be\n",
    "nginx_te = \"\"\"\n",
    "\n",
    "module nginx 1.0;\n",
    "\n",
    "require {\n",
    "        type init_t;\n",
    "        type httpd_t;\n",
    "        type httpd_tmp_t;\n",
    "        type unlabeled_t;\n",
    "        class file { create getattr open read rename unlink write };\n",
    "        class dir { add_name remove_name rmdir write read};\n",
    "}\n",
    "\n",
    "#============= httpd_t ==============\n",
    "allow httpd_t unlabeled_t:dir { add_name remove_name write read};\n",
    "allow httpd_t unlabeled_t:file getattr;\n",
    "allow httpd_t unlabeled_t:file { create open read rename unlink write };\n",
    "\n",
    "#============= init_t ==============\n",
    "allow init_t httpd_tmp_t:dir rmdir;\n",
    "\n",
    "\"\"\"\n",
    "\n",
    "command = f\"echo '{nginx_te}' | sudo tee /etc/nginx/nginx.te\"\n",
    "stdout, stderr = node.execute(command)\n",
    "\n",
    "# compile and install\n",
    "command = \"\"\"\n",
    "sudo checkmodule -M -m -o /etc/nginx/nginx.mod /etc/nginx/nginx.te;\n",
    "sudo semodule_package -o /etc/nginx/nginx.pp -m /etc/nginx/nginx.mod;\n",
    "sudo semodule -i /etc/nginx/nginx.pp;\n",
    "sudo semodule -l | grep nginx\n",
    "\"\"\"\n",
    "stdout, stderr = node.execute(command)\n",
    "\n",
    "# add ability to access user home directories\n",
    "command = \"sudo setsebool -P httpd_read_user_content 1\"\n",
    "stdout, stderr = node.execute(command)"
   ]
  },
  {
   "cell_type": "markdown",
   "metadata": {},
   "source": [
    "(RE)Start NGINX"
   ]
  },
  {
   "cell_type": "code",
   "execution_count": null,
   "metadata": {},
   "outputs": [],
   "source": [
    "command = \"sudo systemctl restart nginx; sudo systemctl status nginx\"\n",
    "\n",
    "stdout, stderr = node.execute(command)"
   ]
  },
  {
   "cell_type": "markdown",
   "metadata": {},
   "source": [
    "## Use the storage\n",
    "\n",
    "You can move the data into the storage in a number of ways, for example as described in [this page](https://learn.fabric-testbed.net/knowledge-base/transferring-data-to-and-from-your-vms/). Download the tools from Xilinx or other locations and then SCP them into the node using its management IP:\n",
    "\n",
    "`mylaptop$ scp -F ~/path/to/fabric_ssh_config -i ~/path/to/sliver/private/key Xilinx_Tools/* rocky@[2620:0:c80:1234:f816:3eff:fe7b:2ca1]:/mnt/ejfat-data/static/artifacts/`\n",
    "\n",
    "Then from any VM in FABRIC with fabnet network service you can simply curl (or wget) the contents (and it will be very fast) into a new VM:\n",
    "\n",
    "`newvm$ curl -k -u fpga_tools:secret-password https://<FABNetv4 IP address of the storage VM>/ejfat-data/static/artifacts/Vivado-Labtools/Xilinx_Vivado_Lab_Lin.tar.gz > Xilinx_Vivado_Lab_Lin.tar.gz` \n",
    "\n",
    "or\n",
    "\n",
    "`newvm$ wget --no-check-certificate --user=fpga_tools --password=secret-password https://<FABNetv4 IP address of the storage VM>/ejfat-data/static/artifacts/Vivado-Labtools/Xilinx_Vivado_Lab_Lin.tar.gz`\n",
    "\n",
    "You can also list directories - they will be returned in JSON format (for scripting convenience; `efat-data/` URL path maps to `/mnt/fejfat-data/static/` file path):\n",
    "\n",
    "`curl -k -u fpga_tools:secret-password https://<FABNetv4 IP address of the storage VM>/ejfat-data/`\n",
    "\n",
    "You can write back into the storage also using curl:\n",
    "\n",
    "`curl -k -u fpga_tools:secret-password -T filename-to-transfer.tar https://fpga-tools-host/ejfat-data/artifacts/`"
   ]
  },
  {
   "cell_type": "markdown",
   "metadata": {},
   "source": [
    "## Extend the slice\n",
    "\n",
    "If you need to extends the storage slice, you can just execute the following two cells. They display the slice expiration date and optionally extend by 2 weeeks. "
   ]
  },
  {
   "cell_type": "code",
   "execution_count": null,
   "metadata": {},
   "outputs": [],
   "source": [
    "slice = fablib.get_slice(name=slice_name)\n",
    "slice.show()"
   ]
  },
  {
   "cell_type": "markdown",
   "metadata": {},
   "source": [
    "Renew the slice by 14 days"
   ]
  },
  {
   "cell_type": "code",
   "execution_count": null,
   "metadata": {},
   "outputs": [],
   "source": [
    "from datetime import datetime\n",
    "from datetime import timezone\n",
    "from datetime import timedelta\n",
    "\n",
    "# Set end host to now plus 14 days\n",
    "end_date = (datetime.now(timezone.utc) + timedelta(days=14)).strftime(\"%Y-%m-%d %H:%M:%S %z\")\n",
    "\n",
    "try:\n",
    "    slice = fablib.get_slice(name=slice_name)\n",
    "\n",
    "    slice.renew(end_date)\n",
    "except Exception as e:\n",
    "    print(f\"Exception: {e}\")"
   ]
  },
  {
   "cell_type": "markdown",
   "metadata": {
    "tags": []
   },
   "source": [
    "## Delete the Slice\n",
    "\n",
    "Please delete your slice when you are done with your experiment."
   ]
  },
  {
   "cell_type": "code",
   "execution_count": null,
   "metadata": {
    "tags": []
   },
   "outputs": [],
   "source": [
    "slice = fablib.get_slice(name=slice_name)\n",
    "slice.delete()"
   ]
  },
  {
   "cell_type": "code",
   "execution_count": null,
   "metadata": {},
   "outputs": [],
   "source": []
  }
 ],
 "metadata": {
  "kernelspec": {
   "display_name": "Python 3 (ipykernel)",
   "language": "python",
   "name": "python3"
  },
  "language_info": {
   "codemirror_mode": {
    "name": "ipython",
    "version": 3
   },
   "file_extension": ".py",
   "mimetype": "text/x-python",
   "name": "python",
   "nbconvert_exporter": "python",
   "pygments_lexer": "ipython3",
   "version": "3.12.9"
  }
 },
 "nbformat": 4,
 "nbformat_minor": 4
}
