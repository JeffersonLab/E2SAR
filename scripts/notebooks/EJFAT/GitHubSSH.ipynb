{
 "cells": [
  {
   "cell_type": "markdown",
   "id": "bacdb734-544b-4d96-93c3-45ec929bad19",
   "metadata": {},
   "source": [
    "# Setup SSH keys for GitHub\n",
    "\n",
    "This notebook helps you setup a unique SSH keypair to allow you to check out private repos both into the Jupyter container and into your VMs. It is intended to help get the code out of *private* GitHub repos. For public repos `https://` access schema is used wherever possible. \n",
    "\n",
    "## Overview\n",
    "\n",
    "- Generate a new SSH keypair and place it under ~/work/fabric_config/github_ecdsa[.pub]\n",
    "- Provide instructions on using the keypair for checking out the code locally into the notebook and in the VMs"
   ]
  },
  {
   "cell_type": "markdown",
   "id": "5aadad77-c72d-4554-a06e-42e77e6d0de3",
   "metadata": {},
   "source": [
    "## Generate SSH keypair"
   ]
  },
  {
   "cell_type": "code",
   "execution_count": null,
   "id": "72dbea9c-fcb9-4d94-993d-88a613fc4d57",
   "metadata": {},
   "outputs": [],
   "source": [
    "# replace with the email associated with your GitHub account\n",
    "export MY_GITHUB_EMAIL='someone@email.com'\n",
    "\n",
    "# name of the keyfile (public key will have .pub extension)\n",
    "GITHUB_KEY=~/work/fabric_config/github_ecdsa\n",
    "\n",
    "# check if keys exist already\n",
    "if [ -e ${GITHUB_KEY} ]; then\n",
    "    echo \"Key already exists don't proceed unless you are sure, old key will be saved with .bak extension.\"\n",
    "    echo \"Existing key signatures:\"\n",
    "    # MD5 signature of the key\n",
    "    ssh-keygen -E md5 -lf ${GITHUB_KEY}\n",
    "\n",
    "    # SHA256 signature of the key\n",
    "    ssh-keygen -E sha256 -lf ${GITHUB_KEY}\n",
    "else\n",
    "    echo \"No key found, good to proceed\"\n",
    "fi"
   ]
  },
  {
   "cell_type": "code",
   "execution_count": null,
   "id": "2586ee0a-5988-41c6-ab88-fbeaf630ba9a",
   "metadata": {},
   "outputs": [],
   "source": [
    "# remove old key files\n",
    "if [ -e ${GITHUB_KEY} ]; then\n",
    "    echo \"Moving the old keys\"\n",
    "    mv ${GITHUB_KEY} ${GITHUB_KEY}.bak\n",
    "    mv ${GITHUB_KEY}.pub ${GITHUB_KEY}.bak.pub\n",
    "fi\n",
    "\n",
    "# generate a new ECDSA key with no passprase\n",
    "ssh-keygen -t ecdsa -C ${MY_GITHUB_EMAIL} -f ~/work/fabric_config/github_ecdsa -N ''"
   ]
  },
  {
   "cell_type": "code",
   "execution_count": null,
   "id": "6c952103-13cb-4ff2-a09e-1c4231640b30",
   "metadata": {},
   "outputs": [],
   "source": [
    "# show the generated keys and their signatures\n",
    "ls -l ${GITHUB_KEY} ${GITHUB_KEY}.pub\n",
    "\n",
    "# MD5 signature of the key\n",
    "ssh-keygen -E md5 -lf ${GITHUB_KEY}\n",
    "\n",
    "# SHA256 signature of the key\n",
    "ssh-keygen -E sha256 -lf ${GITHUB_KEY}"
   ]
  },
  {
   "cell_type": "markdown",
   "id": "ac2947ec-1f41-4063-bd8a-7e373f8790a7",
   "metadata": {},
   "source": [
    "## Register the public key with GitHub\n",
    "\n",
    "Visit [GitHub](https://github.com/settings/keys) key settings and add the following public key as a new Authentication Key with a title 'FABRIC SSH Key' or another appropriate title:\n",
    "\n",
    "<div>\n",
    "    <img src=\"figs/add-key.png\" width=500>\n",
    "</div>\n"
   ]
  },
  {
   "cell_type": "code",
   "execution_count": null,
   "id": "8c023dd2-9964-4f76-b89f-18c4ae7730e2",
   "metadata": {},
   "outputs": [],
   "source": [
    "# display the public key so you can cut and paste it into the browser\n",
    "\n",
    "cat ${GITHUB_KEY}.pub"
   ]
  },
  {
   "cell_type": "markdown",
   "id": "2ca0d0f6-7d02-40b8-9eaa-9afa3e2921a0",
   "metadata": {},
   "source": [
    "## Using the key to checkout the code\n",
    "\n",
    "Normally you would add this key to your SSH configuration and use it with ssh-agent, however since this key has no passphrase and is meant to be used in multiple hosts, the easiest way is to use it like the following command shows (it can be used for cloning or commits [although if code signing is enabled you would also need the signing key]):\n",
    "\n",
    "```\n",
    "$ GIT_SSH_COMMAND='ssh -i ~/work/fabric_config/github_ecdsa -o IdentitiesOnly=yes -o UserKnownHostsFile=/dev/null -o StrictHostKeyChecking=no' git clone git@github.com:JeffersonLab/E2SAR.git\n",
    "```\n",
    "\n",
    "when updating existing code you can use\n",
    "```\n",
    "$ GIT_SSH_COMMAND='ssh -i ~/work/fabric_config/github_ecdsa -o IdentitiesOnly=yes -o UserKnownHostsFile=/dev/null -o StrictHostKeyChecking=no' git pull origin\n",
    "```"
   ]
  },
  {
   "cell_type": "markdown",
   "id": "a9a8fe27-d6ff-4482-aff0-939e12dfcaaf",
   "metadata": {},
   "source": [
    "## Fix permissions of the keys\n",
    "\n",
    "When you start your container again, your private SSH key created above may have the wrong permissions (this is a property of GitHub workspace disk), the following command will fix them:"
   ]
  },
  {
   "cell_type": "code",
   "execution_count": null,
   "id": "cf333db4-7c64-43f8-a02b-8012c0784151",
   "metadata": {},
   "outputs": [],
   "source": [
    "# fix key permissions\n",
    "\n",
    "chmod go-rwx ~/work/fabric_config/github_ecdsa\n"
   ]
  },
  {
   "cell_type": "code",
   "execution_count": null,
   "id": "0a2c7908-1c27-4a18-b66d-df97e357c1ad",
   "metadata": {},
   "outputs": [],
   "source": []
  }
 ],
 "metadata": {
  "kernelspec": {
   "display_name": "Bash",
   "language": "bash",
   "name": "bash"
  },
  "language_info": {
   "codemirror_mode": "shell",
   "file_extension": ".sh",
   "mimetype": "text/x-sh",
   "name": "bash"
  }
 },
 "nbformat": 4,
 "nbformat_minor": 5
}
