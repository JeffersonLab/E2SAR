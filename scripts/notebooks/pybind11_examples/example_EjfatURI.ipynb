{
 "cells": [
  {
   "cell_type": "markdown",
   "metadata": {},
   "source": [
    "# Pybind11 examples of EjfatURI class\n",
    "\n",
    "First import the built library \"e2sar_py\". Make sure the module is included in the path. Here we use the absolute path."
   ]
  },
  {
   "cell_type": "code",
   "execution_count": 1,
   "metadata": {},
   "outputs": [
    {
     "name": "stdout",
     "output_type": "stream",
     "text": [
      "0.1.0b1\n"
     ]
    }
   ],
   "source": [
    "import sys\n",
    "\n",
    "# IMPORTANT: Adjust the path to your built Python module as necessary\n",
    "sys.path.append(\n",
    "    '/home/xmei/Documents/hpdf_projects/E2SAR/build/src/pybind')\n",
    "\n",
    "import e2sar_py\n",
    "\n",
    "print(e2sar_py.get_version())"
   ]
  },
  {
   "cell_type": "code",
   "execution_count": 2,
   "metadata": {},
   "outputs": [],
   "source": [
    "\n",
    "# Print to check the attributes\n",
    "# print(dir(e2sar_py))"
   ]
  },
  {
   "cell_type": "markdown",
   "metadata": {},
   "source": [
    "## Python helper class \"IPAddress\"\n",
    "In the top module, we create a Python class `IPAddress` to bridge the Python string and the C++ boost IP class."
   ]
  },
  {
   "cell_type": "code",
   "execution_count": 3,
   "metadata": {},
   "outputs": [
    {
     "name": "stdout",
     "output_type": "stream",
     "text": [
      "The IP address is 192.168.1.3\n",
      "The IP address is of IPv4: True\n",
      "The IP address is of IPv6: False\n"
     ]
    }
   ],
   "source": [
    "ip_instance = e2sar_py.IPAddress.from_string(\"192.168.1.3\")\n",
    "print(f\"The IP address is {ip_instance}\")\n",
    "print(f\"The IP address is of IPv4: {ip_instance.is_v4()}\")\n",
    "print(f\"The IP address is of IPv6: {ip_instance.is_v6()}\")"
   ]
  },
  {
   "cell_type": "markdown",
   "metadata": {},
   "source": [
    "## Python class \"EjfatURI\""
   ]
  },
  {
   "cell_type": "code",
   "execution_count": 4,
   "metadata": {},
   "outputs": [],
   "source": [
    "# print(dir(e2sar_py.EjfatURI))   # print the supported methods"
   ]
  },
  {
   "cell_type": "markdown",
   "metadata": {},
   "source": [
    "Create an \"EjfatURI\" object."
   ]
  },
  {
   "cell_type": "code",
   "execution_count": 5,
   "metadata": {},
   "outputs": [
    {
     "name": "stdout",
     "output_type": "stream",
     "text": [
      "Created EjfatURI object successfully: ejfat://token@192.188.29.6:18020/lb/36?sync=192.188.29.6:10920&data=192.188.29.20\n"
     ]
    }
   ],
   "source": [
    "CP_IPV4 = \"192.188.29.6\"\n",
    "CP_PORT = \"18020\"\n",
    "LB_ID = \"36\"\n",
    "SYNC_IPV4 = CP_IPV4\n",
    "SYNC_PORT = \"10920\"\n",
    "DP_IPV4 = \"192.188.29.20\"\n",
    "DEMO_URI = f\"ejfat://token@{CP_IPV4}:{CP_PORT}/lb/{LB_ID}?sync={SYNC_IPV4}:{SYNC_PORT}&data={DP_IPV4}\"\n",
    "\n",
    "try:\n",
    "    uri = e2sar_py.EjfatURI(DEMO_URI)\n",
    "    print(f\"Created EjfatURI object successfully: {uri}\")\n",
    "except:\n",
    "    print(\"Failed to create the EjfatURI object.\")"
   ]
  },
  {
   "cell_type": "code",
   "execution_count": 6,
   "metadata": {},
   "outputs": [
    {
     "name": "stdout",
     "output_type": "stream",
     "text": [
      "<class 'e2sar_py.EjfatURI'> ejfat://token@192.188.29.6:18020/lb/36?sync=192.188.29.6:10920&data=192.188.29.20\n",
      "<class 'str'> ejfat://token@192.188.29.6:18020/lb/36?sync=192.188.29.6:10920&data=192.188.29.20\n"
     ]
    }
   ],
   "source": [
    "# Print the EjfatURI object as a normal string\n",
    "print(type(uri), uri)\n",
    "print(type(uri.to_string()), uri.to_string())"
   ]
  },
  {
   "cell_type": "markdown",
   "metadata": {},
   "source": [
    "The Python atrributes can be print out directly:"
   ]
  },
  {
   "cell_type": "code",
   "execution_count": 7,
   "metadata": {},
   "outputs": [
    {
     "name": "stdout",
     "output_type": "stream",
     "text": [
      "The created ejfatURI object instance:\n",
      "  useTls: False\n",
      "  lb_id: 36\n",
      "  lb_name: UNSET\n",
      "  session_id: UNSET\n"
     ]
    }
   ],
   "source": [
    "print(\"The created ejfatURI object instance:\")\n",
    "print(f\"  useTls: {uri.get_useTls()}\")\n",
    "print(f\"  lb_id: {uri.lb_id}\")\n",
    "print(f\"  lb_name: {uri.lb_name if uri.lb_name else 'UNSET'}\")\n",
    "print(f\"  session_id: {uri.session_id if uri.session_id else 'UNSET'}\")\n",
    "\n",
    "\n",
    "assert(uri.lb_id ==  LB_ID)"
   ]
  },
  {
   "cell_type": "markdown",
   "metadata": {},
   "source": [
    "The private variables `lbName`, `lbId` and `sessionId` of the C++ `EjfatURI` class are mapped as Python attributes `EjfatURI.lb_name`, `EjfatURI.lb_id` and `EjfatURI.session_id`. The Python way to call their C++ get&set methods is demonstrated as below."
   ]
  },
  {
   "cell_type": "code",
   "execution_count": 8,
   "metadata": {},
   "outputs": [
    {
     "name": "stdout",
     "output_type": "stream",
     "text": [
      "\n",
      "Object's LB name not set!\n",
      "Set LB name as py_lb\n",
      "Object's LB name: py_lb\n"
     ]
    }
   ],
   "source": [
    "LB_NAME = \"py_lb\"\n",
    "\n",
    "print(uri.lb_name)  # print nothing at the 1st run\n",
    "if (uri.lb_name):\n",
    "    print(f\"Object's LB name: {uri.lb_name}\") \n",
    "else:\n",
    "    print(\"Object's LB name not set!\")\n",
    "\n",
    "print(f\"Set LB name as {LB_NAME}\")\n",
    "uri.lb_name = LB_NAME   # equal to EjfatURI::set_LbName\n",
    "print(f\"Object's LB name: {uri.lb_name}\")  # equal to EjfatURI::get_LbName\n",
    "assert uri.lb_name == LB_NAME"
   ]
  },
  {
   "cell_type": "markdown",
   "metadata": {},
   "source": [
    "Set EjfatURI's sync or data plane's IP addresses and ports with Python tuples."
   ]
  },
  {
   "cell_type": "code",
   "execution_count": 9,
   "metadata": {},
   "outputs": [
    {
     "name": "stdout",
     "output_type": "stream",
     "text": [
      "The EjfatURI instance:\n",
      "  has data plane address: True\n",
      "  has sync plane address: True\n",
      "  has data plane IPv4 address: True\n",
      "  has data plane IPv6 address: False\n"
     ]
    }
   ],
   "source": [
    "# Set syncAddr\n",
    "sync_addr = (e2sar_py.IPAddress.from_string(\"192.168.1.1\"), 8080)\n",
    "uri.set_sync_addr(sync_addr)\n",
    "\n",
    "# Set dataAddr\n",
    "data_addr_v4 = (e2sar_py.IPAddress.from_string(\"10.0.0.1\"), 9090)\n",
    "uri.set_data_addr(data_addr_v4)\n",
    "\n",
    "# Can only print bool varables directly\n",
    "print(\"The EjfatURI instance:\")\n",
    "print(f\"  has data plane address: {uri.has_data_addr()}\")\n",
    "print(f\"  has sync plane address: {uri.has_sync_addr()}\")\n",
    "print(f\"  has data plane IPv4 address: {uri.has_data_addr_v4()}\")\n",
    "print(f\"  has data plane IPv6 address: {uri.has_data_addr_v6()}\")"
   ]
  },
  {
   "cell_type": "markdown",
   "metadata": {},
   "source": [
    "### C++ `Result<T>` return type bindings\n",
    "\n",
    "In the `e2sar` C++ library, for an easier error detection, many methods are with return types `result<T>`. Their Python bindings are also of Object types with 4 atrributes inherit the C++ `has_value()`, `has_error()`, `value()` and `error()`. The below code demonstrates their Python usage."
   ]
  },
  {
   "cell_type": "code",
   "execution_count": 10,
   "metadata": {},
   "outputs": [
    {
     "name": "stdout",
     "output_type": "stream",
     "text": [
      "<e2sar_py.E2SARResultString object at 0x7f37e0d0ec30>\n",
      "Instance Token: token123\n"
     ]
    }
   ],
   "source": [
    "print(uri.get_instance_token())  # the return type is an object\n",
    "\n",
    "# Bindings where the return type is `result<std::string>`\n",
    "def get_inst_token(uri : e2sar_py.EjfatURI):\n",
    "    res = uri.get_instance_token()\n",
    "    if (res.has_error()):\n",
    "        print(f\"Get instance token error: {res.error()}\")\n",
    "    elif (res.value() == \"\"):\n",
    "        print(\"Instance Token Unset!\")\n",
    "    else:\n",
    "        print(\"Instance Token:\", res.value())\n",
    "\n",
    "uri.set_instance_token(\"token123\")\n",
    "get_inst_token(uri)  # print the token value\n",
    "\n"
   ]
  },
  {
   "cell_type": "code",
   "execution_count": 11,
   "metadata": {},
   "outputs": [
    {
     "name": "stdout",
     "output_type": "stream",
     "text": [
      "get_cp_address return type is <class 'tuple'>\n",
      "  tuple[0] is of type: <class 'e2sar_py.IPAddress'>\n",
      "  tuple[1] is of type: <class 'int'>\n"
     ]
    },
    {
     "data": {
      "text/plain": [
       "('192.188.29.6', 18020)"
      ]
     },
     "execution_count": 11,
     "metadata": {},
     "output_type": "execute_result"
    }
   ],
   "source": [
    "\n",
    "# Get control plane address\n",
    "# Bindings where the return type is of `result<std::pair<ip::address, uint16_t>>`\n",
    "\n",
    "def get_cp_address(uri : e2sar_py.EjfatURI):\n",
    "    res = uri.get_cp_addr()\n",
    "    if res.has_error():\n",
    "        print(f\"Get control plane address error: {res.error()}\")\n",
    "    elif (not res.value()):\n",
    "        print(f\"Control plane address UNSET!\")\n",
    "    else:\n",
    "        print(f\"get_cp_address return type is {type(res.value())}\")\n",
    "        print(f\"  tuple[0] is of type: {type(res.value()[0])}\")\n",
    "        print(f\"  tuple[1] is of type: {type(res.value()[1])}\")\n",
    "        return (str(res.value()[0]), res.value()[1])\n",
    "\n",
    "get_cp_address(uri)"
   ]
  },
  {
   "cell_type": "code",
   "execution_count": 12,
   "metadata": {},
   "outputs": [
    {
     "name": "stdout",
     "output_type": "stream",
     "text": [
      "C++ get_dp_address_v4 return type is <class 'tuple'>\n",
      "  tuple[0] is of type: <class 'e2sar_py.IPAddress'>\n",
      "  tuple[1] is of type: <class 'int'>\n",
      "Data plane IPV4 address: 10.0.0.1\n",
      "Data plane port: 19522\n",
      "\n",
      "get_dp_address_v6 error: <E2SARErrorInfo(code=4, message='Data plane address not available')>\n",
      "Try get data plane IPV6 address: ('', -1)\n",
      "\n",
      "C++ get_sync_address return type is <class 'tuple'>\n",
      "  tuple[0] is of type: <class 'e2sar_py.IPAddress'>\n",
      "  tuple[1] is of type: <class 'int'>\n",
      "Sync IPV4 address: 192.168.1.1\n",
      "Sync port: 8080\n"
     ]
    }
   ],
   "source": [
    "# Redo the above with a Python decorator of C++ return type result<std::pair<ip::address, uint16_t>>\n",
    "def result_tuple2_handler(get_func):\n",
    "    def wrapper(_obj):\n",
    "        res1 = \"\"\n",
    "        res2 = -1  # int object\n",
    "        res = get_func(_obj)\n",
    "        if res.has_error():\n",
    "            print(f\"{get_func.__name__} error: {res.error()}\")\n",
    "        elif (not res.value()[0]):\n",
    "            print(f\"{get_func.__name__} UNSET!\")\n",
    "        else:\n",
    "            print(f\"C++ {get_func.__name__} return type is {type(res.value())}\")\n",
    "            print(f\"  tuple[0] is of type: {type(res.value()[0])}\")\n",
    "            print(f\"  tuple[1] is of type: {type(res.value()[1])}\")\n",
    "            res1, res2 = str(res.value()[0]), res.value()[1]\n",
    "        return (res1, res2)\n",
    "    return wrapper\n",
    "\n",
    "@result_tuple2_handler\n",
    "def get_dp_address_v4(uri : e2sar_py.EjfatURI):\n",
    "    return uri.get_data_addr_v4()\n",
    "\n",
    "@result_tuple2_handler\n",
    "def get_dp_address_v6(uri : e2sar_py.EjfatURI):\n",
    "    return uri.get_data_addr_v6()\n",
    "\n",
    "@result_tuple2_handler\n",
    "def get_sync_address(uri : e2sar_py.EjfatURI):\n",
    "    return uri.get_sync_addr()\n",
    "\n",
    "dp_uri_v4, dp_port = get_dp_address_v4(uri)\n",
    "print(f\"Data plane IPV4 address: {dp_uri_v4}\")\n",
    "print(f\"Data plane port: {dp_port}\")\n",
    "\n",
    "print()\n",
    "print(f\"Try get data plane IPV6 address: {get_dp_address_v6(uri)}\")\n",
    "\n",
    "print()\n",
    "sync_uri, sync_port = get_sync_address(uri)\n",
    "print(f\"Sync IPV4 address: {sync_uri}\")\n",
    "print(f\"Sync port: {sync_port}\")"
   ]
  },
  {
   "cell_type": "code",
   "execution_count": 13,
   "metadata": {},
   "outputs": [
    {
     "name": "stdout",
     "output_type": "stream",
     "text": [
      "get_cp_hostname error: <E2SARErrorInfo(code=4, message='Control plane hostname not available')>\n",
      "Control plane hostname: \n",
      "Control plane port: UNSET\n"
     ]
    }
   ],
   "source": [
    "# The decorator applies to C++ return type of result<std::pair<std::string, u_int16_t>>\n",
    "@result_tuple2_handler\n",
    "def get_cp_hostname(uri : e2sar_py.EjfatURI):\n",
    "    return uri.get_cp_host()\n",
    "\n",
    "# Control plane host\n",
    "cp_host, cp_host_port = get_cp_hostname(uri)\n",
    "print(f\"Control plane hostname: {cp_host}\")\n",
    "print(f\"Control plane port: {'UNSET' if cp_host_port == -1 else cp_host_port}\")"
   ]
  },
  {
   "cell_type": "markdown",
   "metadata": {},
   "source": [
    "### Examples taken from the C++ unit test `e2sar_uri_test`"
   ]
  },
  {
   "cell_type": "markdown",
   "metadata": {},
   "source": [
    "1. `URITest1_1`: Create an EjfatURI with IPV6 address."
   ]
  },
  {
   "cell_type": "code",
   "execution_count": 14,
   "metadata": {},
   "outputs": [
    {
     "name": "stdout",
     "output_type": "stream",
     "text": [
      "get_cp_address return type is <class 'tuple'>\n",
      "  tuple[0] is of type: <class 'e2sar_py.IPAddress'>\n",
      "  tuple[1] is of type: <class 'int'>\n",
      "Control plane (address, port) : ('2001:4860:0:2001::68', 18020)\n",
      "C++ get_dp_address_v6 return type is <class 'tuple'>\n",
      "  tuple[0] is of type: <class 'e2sar_py.IPAddress'>\n",
      "  tuple[1] is of type: <class 'int'>\n",
      "Data plane (address, port) : ('2001:4860:0:2021::68', 19522)\n",
      "C++ get_sync_address return type is <class 'tuple'>\n",
      "  tuple[0] is of type: <class 'e2sar_py.IPAddress'>\n",
      "  tuple[1] is of type: <class 'int'>\n",
      "Sync (address, port) : ('2001:4860:0:2031::68', 19020)\n"
     ]
    }
   ],
   "source": [
    "DEMO_IPV6 = \"ejfat://[2001:4860:0:2001::68]:18020/lb/36?data=[2001:4860:0:2021::68]&sync=[2001:4860:0:2031::68]:19020\"\n",
    "\n",
    "uri_ipv6 = e2sar_py.EjfatURI(DEMO_IPV6)\n",
    "\n",
    "assert(uri_ipv6.has_data_addr_v6() == True)\n",
    "assert(uri_ipv6.has_data_addr_v4() == False)\n",
    "\n",
    "print(f\"Control plane (address, port) : {get_cp_address(uri_ipv6)}\")\n",
    "print(f\"Data plane (address, port) : {get_dp_address_v6(uri_ipv6)}\")\n",
    "print(f\"Sync (address, port) : {get_sync_address(uri_ipv6)}\")"
   ]
  },
  {
   "cell_type": "markdown",
   "metadata": {},
   "source": [
    "2. `URITest2`: Set an EjfatURI object with IPv6 address and make sure the initilization is as expected."
   ]
  },
  {
   "cell_type": "code",
   "execution_count": 15,
   "metadata": {},
   "outputs": [],
   "source": [
    "DEMO_IPV4 = f\"ejfat://token@192.188.29.6:18020/lb/{LB_ID}?sync=192.188.29.6:19020&data=192.188.29.20\"\n",
    "\n",
    "uri_ipv4 = e2sar_py.EjfatURI(DEMO_IPV4)\n",
    "\n",
    "assert(uri_ipv4.lb_id == LB_ID)\n",
    "assert(uri_ipv4.get_admin_token().value() == \"token\")\n",
    "assert(str(uri_ipv4.get_cp_addr().value()[0]) == \"192.188.29.6\")\n",
    "assert(uri_ipv4.get_cp_addr().value()[1] == 18020)\n",
    "assert(str(uri_ipv4.get_data_addr_v4().value()[0]) == \"192.188.29.20\")\n",
    "assert(uri_ipv4.get_data_addr_v4().value()[1] == 19522)\n",
    "assert(str(uri_ipv4.get_sync_addr().value()[0]) == \"192.188.29.6\")\n",
    "assert(uri_ipv4.get_sync_addr().value()[1] == 19020)"
   ]
  },
  {
   "cell_type": "markdown",
   "metadata": {},
   "source": [
    "The Python bindings for C++ operators `==` and `!=`."
   ]
  },
  {
   "cell_type": "code",
   "execution_count": 16,
   "metadata": {},
   "outputs": [],
   "source": [
    "assert(uri_ipv4 != uri_ipv6)\n",
    "\n",
    "uri_ipv4_2 = e2sar_py.EjfatURI(DEMO_IPV4)\n",
    "assert(uri_ipv4_2 == uri_ipv4)"
   ]
  },
  {
   "cell_type": "code",
   "execution_count": 17,
   "metadata": {},
   "outputs": [],
   "source": [
    "# URI without data plane address\n",
    "DEMO_IPV4 = \"ejfat://token@192.188.29.6:18020/lb/36?sync=192.188.29.6:19020\"\n",
    "\n",
    "uri_ipv4 = e2sar_py.EjfatURI(DEMO_IPV4)\n",
    "assert(uri_ipv4.has_data_addr_v4() == False)\n",
    "assert(uri_ipv4.has_data_addr_v6() == False)\n",
    "assert(uri_ipv4.lb_id == LB_ID)\n",
    "assert(uri_ipv4.get_admin_token().value() == \"token\")\n",
    "assert(str(uri_ipv4.get_cp_addr().value()[0]) == \"192.188.29.6\")\n",
    "assert(uri_ipv4.get_cp_addr().value()[1] == 18020)\n",
    "assert(str(uri_ipv4.get_sync_addr().value()[0]) == \"192.188.29.6\")\n",
    "assert(uri_ipv4.get_sync_addr().value()[1] == 19020)"
   ]
  },
  {
   "cell_type": "code",
   "execution_count": 18,
   "metadata": {},
   "outputs": [],
   "source": [
    "# URI with control plane address only\n",
    "DEMO_IPV4 = \"ejfat://token@192.188.29.6:18020/lb/36\"\n",
    "\n",
    "uri_ipv4 = e2sar_py.EjfatURI(DEMO_IPV4)\n",
    "assert(uri_ipv4.has_data_addr() == False)\n",
    "assert(uri_ipv4.has_sync_addr() == False)\n",
    "assert(uri_ipv4.lb_id == LB_ID)\n",
    "assert(uri_ipv4.get_admin_token().value() == \"token\")\n",
    "assert(str(uri_ipv4.get_cp_addr().value()[0]) == \"192.188.29.6\")\n",
    "assert(uri_ipv4.get_cp_addr().value()[1] == 18020)"
   ]
  },
  {
   "cell_type": "code",
   "execution_count": 19,
   "metadata": {},
   "outputs": [],
   "source": [
    "# Addresses without lb_id\n",
    "DEMO_IPV4 = \"ejfat://token@192.188.29.6:18020/\"\n",
    "\n",
    "uri_ipv4 = e2sar_py.EjfatURI(DEMO_IPV4)\n",
    "assert(uri_ipv4.has_data_addr() == False)\n",
    "assert(uri_ipv4.has_sync_addr() == False)\n",
    "assert(uri_ipv4.lb_id == \"\")\n",
    "assert(uri_ipv4.get_admin_token().value() == \"token\")\n",
    "assert(str(uri_ipv4.get_cp_addr().value()[0]) == \"192.188.29.6\")\n",
    "assert(uri_ipv4.get_cp_addr().value()[1] == 18020)\n",
    "\n",
    "DEMO_IPV4 = \"ejfat://token@192.188.29.6:18020\"\n",
    "uri_ipv4 = e2sar_py.EjfatURI(DEMO_IPV4)\n",
    "assert(uri_ipv4.has_data_addr() == False)\n",
    "assert(uri_ipv4.has_sync_addr() == False)\n",
    "assert(uri_ipv4.lb_id == \"\")\n",
    "assert(uri_ipv4.get_admin_token().value() == \"token\")\n",
    "assert(str(uri_ipv4.get_cp_addr().value()[0]) == \"192.188.29.6\")\n",
    "assert(uri_ipv4.get_cp_addr().value()[1] == 18020)\n",
    "\n",
    "DEMO_IPV4 = \"ejfat://token@192.188.29.6:18020/?sync=192.188.29.6:19020\"\n",
    "uri_ipv4 = e2sar_py.EjfatURI(DEMO_IPV4)\n",
    "assert(uri_ipv4.has_data_addr() == False)\n",
    "assert(uri_ipv4.has_sync_addr() == True)\n",
    "assert(uri_ipv4.lb_id == \"\")\n",
    "assert(uri_ipv4.get_admin_token().value() == \"token\")\n",
    "assert(str(uri_ipv4.get_sync_addr().value()[0]) == \"192.188.29.6\")\n",
    "assert(uri_ipv4.get_sync_addr().value()[1] == 19020)\n",
    "assert(str(uri_ipv4.get_cp_addr().value()[0]) == \"192.188.29.6\")\n",
    "assert(uri_ipv4.get_cp_addr().value()[1] == 18020)"
   ]
  },
  {
   "cell_type": "markdown",
   "metadata": {},
   "source": [
    "3. `URITest3`: Exception when creating an EjfatURI object."
   ]
  },
  {
   "cell_type": "code",
   "execution_count": 20,
   "metadata": {},
   "outputs": [
    {
     "name": "stdout",
     "output_type": "stream",
     "text": [
      "An error occured: Caught an unknown exception!\n"
     ]
    }
   ],
   "source": [
    "DEMO_WRONG_URI = \"ejfact://token@192.188.29.6:18020/lb/36?sync=192.188.29.6:19020&data=192.188.29.20\"\n",
    "\n",
    "try:\n",
    "    uri = e2sar_py.EjfatURI(DEMO_WRONG_URI)\n",
    "except Exception as e:\n",
    "    print(f\"An error occured: {e}\")\n"
   ]
  },
  {
   "cell_type": "markdown",
   "metadata": {},
   "source": [
    "4. `URITest4`: create an EjfatURI object from an env var `EJFAT_URI`."
   ]
  },
  {
   "cell_type": "code",
   "execution_count": 21,
   "metadata": {},
   "outputs": [],
   "source": [
    "import os\n",
    "\n",
    "os.environ['EJFAT_URI'] = DEMO_URI\n",
    "\n",
    "assert(os.environ['EJFAT_URI'] == DEMO_URI)\n",
    "res = e2sar_py.EjfatURI.get_from_env()  # Read from env_var \"EJFAT_URI\" by default\n",
    "\n",
    "assert(res.has_error() == False)\n",
    "assert(res.value().to_string() == DEMO_URI)"
   ]
  },
  {
   "cell_type": "markdown",
   "metadata": {},
   "source": [
    "5. `URITest5`: Create an EjfatURI object from env vars other than `EJFAT_URI`."
   ]
  },
  {
   "cell_type": "code",
   "execution_count": 22,
   "metadata": {},
   "outputs": [
    {
     "name": "stdout",
     "output_type": "stream",
     "text": [
      "Environment variable EJFAT_URI not defined.\n"
     ]
    }
   ],
   "source": [
    "# Delete env var EJFAT_URI\n",
    "if 'EJFAT_URI' in os.environ:\n",
    "    del os.environ['EJFAT_URI']\n",
    "res = e2sar_py.EjfatURI.get_from_env()\n",
    "assert(res.has_error() == True)\n",
    "\n",
    "assert(res.error().code == e2sar_py.E2SARErrorc.Undefined)\n",
    "print(res.error().message)"
   ]
  },
  {
   "cell_type": "code",
   "execution_count": 23,
   "metadata": {},
   "outputs": [],
   "source": [
    "os.environ['EJFAT_URI_NEW'] = DEMO_URI\n",
    "res = e2sar_py.EjfatURI.get_from_env('EJFAT_URI_NEW')\n",
    "\n",
    "assert(res.has_error() == False)\n",
    "assert(res.value().to_string() == DEMO_URI)"
   ]
  },
  {
   "cell_type": "markdown",
   "metadata": {},
   "source": [
    "6. `URITest9`: Create EjfatURI object with `useTls`."
   ]
  },
  {
   "cell_type": "code",
   "execution_count": 24,
   "metadata": {},
   "outputs": [],
   "source": [
    "# URI with TLS\n",
    "DEMO_IPV4 = \"ejfats://192.188.29.6:18020/lb/36?sync=192.188.29.6:19020\"\n",
    "\n",
    "uri_ipv4 = e2sar_py.EjfatURI(DEMO_IPV4)\n",
    "assert(uri_ipv4.get_useTls() == True)"
   ]
  },
  {
   "cell_type": "markdown",
   "metadata": {},
   "source": [
    "7. `URITest10`, `URITest11`: Create EjfatURI object with Control Plane hostname."
   ]
  },
  {
   "cell_type": "code",
   "execution_count": 25,
   "metadata": {},
   "outputs": [],
   "source": [
    "DEMO_HOST_URI = \"ejfats://ejfat-lb.es.net:18020/lb/36?sync=192.188.29.6:19020\"\n",
    "\n",
    "uri = e2sar_py.EjfatURI(DEMO_HOST_URI)\n",
    "assert(uri.get_useTls() == True)\n",
    "assert(uri.get_cp_host().value()[0] == 'ejfat-lb.es.net')\n",
    "assert(uri.get_cp_addr().value()[0].is_v4() == True)"
   ]
  },
  {
   "cell_type": "code",
   "execution_count": 26,
   "metadata": {},
   "outputs": [],
   "source": [
    "# Initialize with IPv6 address = True\n",
    "uri = e2sar_py.EjfatURI(DEMO_HOST_URI, e2sar_py.EjfatURI.TokenType.admin, True)\n",
    "assert(uri.get_useTls() == True)\n",
    "assert(uri.get_cp_host().value()[0] == 'ejfat-lb.es.net')\n",
    "assert(uri.get_cp_addr().value()[0].is_v4() == False)\n",
    "assert(uri.get_cp_addr().value()[0].is_v6() == True)"
   ]
  },
  {
   "cell_type": "markdown",
   "metadata": {},
   "source": [
    "9. `URITest12`: Create EjfatURI object with `session_id`."
   ]
  },
  {
   "cell_type": "code",
   "execution_count": 27,
   "metadata": {},
   "outputs": [],
   "source": [
    "# URI with session_id\n",
    "DEMO_IPV4 = \"ejfats://ejfat-lb.es.net:18020/lb/36?sync=192.188.29.6:19020&sessionid=mysessionid\"\n",
    "\n",
    "uri_ipv4 = e2sar_py.EjfatURI(DEMO_IPV4)\n",
    "assert(uri_ipv4.session_id == \"mysessionid\")"
   ]
  },
  {
   "cell_type": "markdown",
   "metadata": {},
   "source": [
    "10. `URITest13`: Create an EjfatURI object with customized data plane port."
   ]
  },
  {
   "cell_type": "code",
   "execution_count": 28,
   "metadata": {},
   "outputs": [],
   "source": [
    "# URI with customized data plane port (other than 19522)\n",
    "DEMO_IPV4 = \"ejfat://192.188.29.6:18020/lb/36?data=192.188.29.6:19020\"\n",
    "\n",
    "uri_ipv4 = e2sar_py.EjfatURI(DEMO_IPV4)\n",
    "assert(str(uri_ipv4.get_data_addr_v4().value()[0]) == \"192.188.29.6\")\n",
    "assert(uri_ipv4.get_data_addr_v4().value()[1] == 19020)"
   ]
  }
 ],
 "metadata": {
  "kernelspec": {
   "display_name": "Python 3",
   "language": "python",
   "name": "python3"
  },
  "language_info": {
   "codemirror_mode": {
    "name": "ipython",
    "version": 3
   },
   "file_extension": ".py",
   "mimetype": "text/x-python",
   "name": "python",
   "nbconvert_exporter": "python",
   "pygments_lexer": "ipython3",
   "version": "3.11.9"
  }
 },
 "nbformat": 4,
 "nbformat_minor": 2
}
