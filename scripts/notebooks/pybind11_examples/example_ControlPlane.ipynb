{
 "cells": [
  {
   "cell_type": "markdown",
   "metadata": {},
   "source": [
    "# Python examples of Control Plane bindings\n",
    "\n",
    "First import the library \"e2sar_py\". Make sure the module is included in the path."
   ]
  },
  {
   "cell_type": "code",
   "execution_count": 1,
   "metadata": {},
   "outputs": [
    {
     "name": "stdout",
     "output_type": "stream",
     "text": [
      "0.1.0b1\n"
     ]
    }
   ],
   "source": [
    "import sys\n",
    "\n",
    "## IMPORTANT: Update the path to your built Python module\n",
    "sys.path.append(\n",
    "    '/home/xmei/Documents/hpdf_projects/E2SAR/build/src/pybind')\n",
    "\n",
    "import e2sar_py\n",
    "print(e2sar_py.get_version())"
   ]
  },
  {
   "cell_type": "code",
   "execution_count": 2,
   "metadata": {},
   "outputs": [],
   "source": [
    "# print(dir(e2sar_py.ControlPlane))"
   ]
  },
  {
   "cell_type": "markdown",
   "metadata": {},
   "source": [
    "## \"LBManager\" class\n",
    "Intialize `LBManager`."
   ]
  },
  {
   "cell_type": "code",
   "execution_count": 3,
   "metadata": {},
   "outputs": [],
   "source": [
    "#print(dir(e2sar_py.ControlPlane.LBManager))"
   ]
  },
  {
   "cell_type": "code",
   "execution_count": 4,
   "metadata": {},
   "outputs": [],
   "source": [
    "TEST_URI = \"ejfat://token@192.188.29.6:18020/lb/36?sync=192.188.29.6:19020&data=192.188.29.20\"\n",
    "\n",
    "uri = e2sar_py.EjfatURI(TEST_URI)\n",
    "\n",
    "lb_manager = e2sar_py.ControlPlane.LBManager(uri)"
   ]
  },
  {
   "cell_type": "code",
   "execution_count": 5,
   "metadata": {},
   "outputs": [
    {
     "name": "stdout",
     "output_type": "stream",
     "text": [
      "Has data address:  True\n",
      "Has sync address:  True\n",
      "Control plane address:  192.188.29.6 : 18020\n",
      "Data plane address (IPv4):  192.188.29.20 : 19522\n",
      "Admin token:  token\n"
     ]
    }
   ],
   "source": [
    "res_uri = lb_manager.get_uri()  # return an EjfatURI object\n",
    "\n",
    "print(\"Has data address: \", res_uri.has_data_addr())\n",
    "print(\"Has sync address: \", res_uri.has_sync_addr())\n",
    "\n",
    "res_cp_addr = res_uri.get_cp_addr().value()\n",
    "print(\"Control plane address: \", res_cp_addr[0], \":\", res_cp_addr[1])\n",
    "\n",
    "res_data_addr_v4 = res_uri.get_data_addr_v4().value()\n",
    "print(\"Data plane address (IPv4): \", res_data_addr_v4[0], \":\", res_data_addr_v4[1])\n",
    "\n",
    "print(\"Admin token: \", res_uri.get_admin_token().value())"
   ]
  },
  {
   "cell_type": "markdown",
   "metadata": {},
   "source": [
    "### Tests with a mock EJ-FAT Load Balancer\n",
    "\n",
    "Below contexts need a real LB running"
   ]
  },
  {
   "cell_type": "markdown",
   "metadata": {},
   "source": [
    "#### Reserve a LB with seconds\n",
    "\n",
    "The Python `datetime.timedelta` package is very convenient to get durations. For simplicity, we create a C++ method `LBManager::reserveLB` based on duration in seconds."
   ]
  },
  {
   "cell_type": "code",
   "execution_count": 6,
   "metadata": {},
   "outputs": [
    {
     "name": "stdout",
     "output_type": "stream",
     "text": [
      "Caught runtime error: Caught an unknown exception!\n"
     ]
    }
   ],
   "source": [
    "from datetime import timedelta\n",
    "\n",
    "duration_seconds = timedelta(hours=1).total_seconds()\n",
    "ip_list = [\"192.168.100.1\", \"192.168.100.2\"]\n",
    "\n",
    "try:\n",
    "    reserve_result = lb_manager.reserve_lb_seconds(\n",
    "        lb_id=\"ejfat\", seconds=duration_seconds, senders=ip_list)\n",
    "    print(reserve_result.value())\n",
    "except RuntimeError as e:\n",
    "    print(\"Caught runtime error:\", e)"
   ]
  },
  {
   "cell_type": "markdown",
   "metadata": {},
   "source": [
    "## \"LBWorkerStatus\" class"
   ]
  },
  {
   "cell_type": "code",
   "execution_count": 7,
   "metadata": {},
   "outputs": [
    {
     "name": "stdout",
     "output_type": "stream",
     "text": [
      "Defaulting to user installation because normal site-packages is not writeable\n",
      "Requirement already satisfied: protobuf in /home/xmei/.local/lib/python3.11/site-packages (5.28.0)\n",
      "\n",
      "\u001b[1m[\u001b[0m\u001b[34;49mnotice\u001b[0m\u001b[1;39;49m]\u001b[0m\u001b[39;49m A new release of pip is available: \u001b[0m\u001b[31;49m24.0\u001b[0m\u001b[39;49m -> \u001b[0m\u001b[32;49m24.2\u001b[0m\n",
      "\u001b[1m[\u001b[0m\u001b[34;49mnotice\u001b[0m\u001b[1;39;49m]\u001b[0m\u001b[39;49m To update, run: \u001b[0m\u001b[32;49mpython -m pip install --upgrade pip\u001b[0m\n",
      "Note: you may need to restart the kernel to use updated packages.\n",
      "seconds: 1725397284\n",
      "nanos: 848147000\n",
      "\n"
     ]
    }
   ],
   "source": [
    "# %pip install protobuf\n",
    "\n",
    "'''Cannot direct map Python protobuf TimeStamp to C++ protobuf TimeStamp So we created our own.'''\n",
    "\n",
    "from google.protobuf.timestamp_pb2 import Timestamp as gts\n",
    "from e2sar_py import Timestamp\n",
    "\n",
    "# The protobuf::TimeStamp object\n",
    "g_ts = gts()\n",
    "g_ts.GetCurrentTime()\n",
    "print(g_ts)\n"
   ]
  },
  {
   "cell_type": "code",
   "execution_count": 8,
   "metadata": {},
   "outputs": [],
   "source": [
    "\n",
    "# Create a e2sar Timestamp object\n",
    "curr_ts = Timestamp()\n",
    "# print(dir(curr_ts))"
   ]
  },
  {
   "cell_type": "code",
   "execution_count": 9,
   "metadata": {},
   "outputs": [
    {
     "name": "stdout",
     "output_type": "stream",
     "text": [
      "Timestamp: seconds = 1725397284, nanos = 848147000\n"
     ]
    }
   ],
   "source": [
    "curr_ts.set_seconds(g_ts.seconds)\n",
    "curr_ts.set_nanos(g_ts.nanos)\n",
    "\n",
    "print(f\"Timestamp: seconds = {curr_ts.get_seconds()}, nanos = {curr_ts.get_nanos()}\")"
   ]
  },
  {
   "cell_type": "code",
   "execution_count": 10,
   "metadata": {},
   "outputs": [],
   "source": [
    "# print(dir(e2sar_py.ControlPlane.LBWorkerStatus))"
   ]
  },
  {
   "cell_type": "code",
   "execution_count": 11,
   "metadata": {},
   "outputs": [],
   "source": [
    "worker1 = e2sar_py.ControlPlane.LBWorkerStatus(\"Worker1\", 75.5, 0.9, 10, curr_ts)"
   ]
  },
  {
   "cell_type": "code",
   "execution_count": 12,
   "metadata": {},
   "outputs": [],
   "source": [
    "# Create LBWorkerStatus objects\n",
    "# worker1 = e2sar_py.ControlPlane.LBWorkerStatus(\"Worker1\", 75.5, 0.9, 10, timestamp)\n",
    "# worker2 = e2sar_py.ControlPlane.LBWorkerStatus(\"Worker2\", 80.2, 1.1, 15, timestamp)\n",
    "\n",
    "# workers = [worker1, worker2]\n",
    "# sender_addresses = [\"address1\", \"address2\"]\n",
    "\n",
    "# # Create an LBStatus object\n",
    "# status = e2sar_py.ControlPlane.LBStatus(timestamp, 1234, 5678, workers, sender_addresses, timestamp)\n",
    "\n",
    "# # Access members\n",
    "# print(status.currentEpoch)\n",
    "# print(status.senderAddresses)\n",
    "# print([worker.name for worker in status.workers])"
   ]
  }
 ],
 "metadata": {
  "kernelspec": {
   "display_name": "Python 3",
   "language": "python",
   "name": "python3"
  },
  "language_info": {
   "codemirror_mode": {
    "name": "ipython",
    "version": 3
   },
   "file_extension": ".py",
   "mimetype": "text/x-python",
   "name": "python",
   "nbconvert_exporter": "python",
   "pygments_lexer": "ipython3",
   "version": "3.11.9"
  }
 },
 "nbformat": 4,
 "nbformat_minor": 2
}
