{
 "cells": [
  {
   "cell_type": "markdown",
   "metadata": {},
   "source": [
    "# The Python bindings for `e2sar` Headers\n",
    "\n",
    "Python bindings for the C++ header file `e2sarHeaders.hpp`."
   ]
  },
  {
   "cell_type": "code",
   "execution_count": null,
   "metadata": {},
   "outputs": [],
   "source": [
    "import sys\n",
    "\n",
    "## IMPORTANT: Update the path to your built Python module. Prefer absolute path.\n",
    "sys.path.append(\n",
    "    '/home/ubuntu/dev-e2sar/build/src/pybind')\n",
    "\n",
    "import e2sar_py\n",
    "\n",
    "# Get the version\n",
    "# print(e2sar_py.get_version())\n"
   ]
  },
  {
   "cell_type": "code",
   "execution_count": null,
   "metadata": {},
   "outputs": [],
   "source": [
    "# Print the constant atrributes\n",
    "print(f\"Default data plane port: {e2sar_py._dp_port}\")\n",
    "print(f\"Default Reassembler Header version: {e2sar_py._rehdr_version}\")\n",
    "print(f\"Default Reassembler Header nibble: {e2sar_py._rehdr_version_nibble}\")\n",
    "print(f\"Default Load Balancer Header version: {e2sar_py._lbhdr_version}\")\n",
    "print(f\"Default Sync Header version: {e2sar_py._synchdr_version}\")\n"
   ]
  },
  {
   "cell_type": "code",
   "execution_count": null,
   "metadata": {},
   "outputs": [],
   "source": [
    "\n",
    "# The Hdr lengths\n",
    "print(f\"IP header length: {e2sar_py._iphdr_len}\")\n",
    "print(f\"UDP header length: {e2sar_py._udphdr_len}\")\n",
    "print(f\"Total header length: {e2sar_py._total_hdr_len}\")\n",
    "print(f\"LB + RE header length: {e2sar_py._total_hdr_len - e2sar_py._iphdr_len - e2sar_py._udphdr_len}\")"
   ]
  },
  {
   "cell_type": "code",
   "execution_count": 4,
   "metadata": {},
   "outputs": [],
   "source": [
    "# print(dir(e2sar_py.REHdr))"
   ]
  },
  {
   "cell_type": "code",
   "execution_count": null,
   "metadata": {},
   "outputs": [],
   "source": [
    "# Setting the Reaasembler header fields\n",
    "rehdr = e2sar_py.REHdr()\n",
    "\n",
    "# Default fields are zeros\n",
    "print(f\"Before setting fields: {rehdr.get_fields()}\")\n",
    "\n",
    "# Set fields and print\n",
    "rehdr.set(data_id=0b0001, buff_off=0b0010, buff_len=0b0100, event_num=0b1000)\n",
    "print(f\"After setting fields: {rehdr.get_fields()}\")\n",
    "print(f\"  data_id={rehdr.get_dataId()}\")\n",
    "print(f\"  buff_off={rehdr.get_bufferOffset()}\")\n",
    "print(f\"  buff_len={rehdr.get_bufferLength()}\")\n",
    "print(f\"  event_num={rehdr.get_eventNum()}\")"
   ]
  },
  {
   "cell_type": "code",
   "execution_count": 6,
   "metadata": {},
   "outputs": [],
   "source": [
    "# print(dir(e2sar_py.LBHdr))"
   ]
  },
  {
   "cell_type": "code",
   "execution_count": null,
   "metadata": {},
   "outputs": [],
   "source": [
    "# Load balancer header\n",
    "lbhdr = e2sar_py.LBHdr()\n",
    "\n",
    "print(\"Before\", lbhdr.get_fields())\n",
    "# The field values in sequence\n",
    "print(lbhdr.get_version())\n",
    "print(lbhdr.get_nextProto())\n",
    "print(lbhdr.get_entropy())\n",
    "print(lbhdr.get_eventNum())\n",
    "\n",
    "lbhdr.set(entropy=200, event_num=50)\n",
    "print(\"After\", lbhdr.get_fields())"
   ]
  },
  {
   "cell_type": "code",
   "execution_count": 8,
   "metadata": {},
   "outputs": [],
   "source": [
    "# print(dir(e2sar_py.LBREHdr))"
   ]
  },
  {
   "cell_type": "code",
   "execution_count": 9,
   "metadata": {},
   "outputs": [],
   "source": [
    "# print(dir(e2sar_py.SyncHdr))"
   ]
  }
 ],
 "metadata": {
  "kernelspec": {
   "display_name": "Python 3",
   "language": "python",
   "name": "python3"
  },
  "language_info": {
   "codemirror_mode": {
    "name": "ipython",
    "version": 3
   },
   "file_extension": ".py",
   "mimetype": "text/x-python",
   "name": "python",
   "nbconvert_exporter": "python",
   "pygments_lexer": "ipython3",
   "version": "3.10.12"
  }
 },
 "nbformat": 4,
 "nbformat_minor": 2
}
