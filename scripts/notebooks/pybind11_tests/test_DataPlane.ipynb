{
 "cells": [
  {
   "cell_type": "markdown",
   "metadata": {},
   "source": [
    "# Test the functionality of DataPlane Python bindings\n",
    "\n",
    "Mimic the `e2sar_reas_test` in the C++ unit test suite."
   ]
  },
  {
   "cell_type": "code",
   "execution_count": 2,
   "metadata": {},
   "outputs": [],
   "source": [
    "import time\n",
    "import sys\n",
    "\n",
    "## IMPORTANT: Update the path to your built Python module. Use the absolute path to make life easier.\n",
    "sys.path.append(\n",
    "    '/home/xmei/Documents/hpdf_projects/E2SAR/build/src/pybind')\n",
    "\n",
    "import e2sar_py"
   ]
  },
  {
   "cell_type": "code",
   "execution_count": null,
   "metadata": {},
   "outputs": [],
   "source": [
    "\n",
    "dir(e2sar_py.DataPlane)"
   ]
  },
  {
   "cell_type": "markdown",
   "metadata": {},
   "source": [
    "## DPReasTest1\n",
    "\n",
    "This is a test that uses local host to send/receive fragments. It does NOT use control plane.\n",
    "\n",
    "\n",
    "1. First confirm the \"Reassembler\" bindings are working."
   ]
  },
  {
   "cell_type": "code",
   "execution_count": null,
   "metadata": {},
   "outputs": [],
   "source": [
    "# Set the reassembler URI\n",
    "REAS_URI_ = \"ejfat://useless@192.168.100.1:9876/lb/1?sync=192.168.0.1:12345&data=127.0.0.1\"\n",
    "reas_uri = e2sar_py.EjfatURI(uri=REAS_URI_, tt=e2sar_py.EjfatURI.TokenType.instance)\n",
    "\n",
    "# Make sure the token matches the one in the string\n",
    "def get_inst_token(uri : e2sar_py.EjfatURI):\n",
    "    try:\n",
    "        token = uri.get_instance_token().value()\n",
    "        print(\"Instance Token:\", token)\n",
    "    except RuntimeError as e:\n",
    "        print(\"Instance Token - Error:\", e)\n",
    "\n",
    "get_inst_token(reas_uri)\n",
    "\n",
    "# Get data plane IPv4 address\n",
    "assert(str(reas_uri.get_data_addr_v4().value()[0]) == \"127.0.0.1\")\n",
    "print(\"Data Plane Address (v4):\", str(reas_uri.get_data_addr_v4().value()[0]))"
   ]
  },
  {
   "cell_type": "code",
   "execution_count": null,
   "metadata": {},
   "outputs": [],
   "source": [
    "# Config the reassembler flags\n",
    "\n",
    "rflags = e2sar_py.DataPlane.ReassemblerFlags()\n",
    "rflags.useCP = False  # turn off CP. Default value is True\n",
    "rflags.withLBHeader = True  # LB header will be attached since there is no LB\n",
    "\n",
    "assert rflags.period_ms == 100  # default value of the C++ constructor\n",
    "assert rflags.useCP == False\n",
    "\n",
    "print(\"Reassembler flags:\")\n",
    "print(f\"  period_ms={rflags.period_ms}\")  # should be 100 according to the C++ constructor\n",
    "print(f\"  useCP={rflags.useCP}\")\n",
    "print(f\"  validateCert = {rflags.validateCert}\")\n",
    "print(f\"  epoch_ms = {rflags.epoch_ms}\")\n",
    "print(f\"  setPoint = {rflags.setPoint}\")\n",
    "print(f\"  [Kp, Ki, Kd] = [{rflags.Kp}, {rflags.Ki}, {rflags.Kd}]\")\n",
    "print(f\"  dpV6 = {rflags.dpV6}\")\n",
    "print(f\"  cpV6 = {rflags.cpV6}\")\n",
    "print(f\"  portRange = {rflags.portRange}\")\n",
    "print(f\"  withLBHeader = {rflags.withLBHeader}\")\n"
   ]
  },
  {
   "cell_type": "code",
   "execution_count": null,
   "metadata": {},
   "outputs": [],
   "source": [
    "dir(e2sar_py.DataPlane.Reassembler)"
   ]
  },
  {
   "cell_type": "code",
   "execution_count": null,
   "metadata": {},
   "outputs": [],
   "source": [
    "# Init the reassembler object\n",
    "# print(type(reas_uri), type(1), type(rflags))\n",
    "reas = e2sar_py.DataPlane.Reassembler(reas_uri, 1, rflags)"
   ]
  },
  {
   "cell_type": "markdown",
   "metadata": {},
   "source": [
    "2. The \"Segmenter\" bindings."
   ]
  },
  {
   "cell_type": "code",
   "execution_count": 3,
   "metadata": {},
   "outputs": [
    {
     "name": "stdout",
     "output_type": "stream",
     "text": [
      "Segmenter flags:\n",
      "  syncPeriodMs=1000\n",
      "  useCP=False\n",
      "  mtu=1500\n",
      "  syncPeriods=5\n"
     ]
    }
   ],
   "source": [
    "# Set up URI for segmenter\n",
    "SEG_URI = \"ejfat://useless@192.168.100.1:9876/lb/1?sync=192.168.0.1:12345&data=127.0.0.1\"\n",
    "seg_uri = e2sar_py.EjfatURI(uri=SEG_URI, tt=e2sar_py.EjfatURI.TokenType.instance)\n",
    "\n",
    "# Set up sflags\n",
    "sflags = e2sar_py.DataPlane.SegmenterFlags()\n",
    "sflags.useCP = False  # turn off CP. Default value is True\n",
    "sflags.syncPeriodMs = 1000\n",
    "sflags.syncPeriods = 5\n",
    "\n",
    "assert(sflags.syncPeriodMs == 1000)\n",
    "assert(sflags.useCP == False)\n",
    "assert(sflags.syncPeriods == 5)\n",
    "\n",
    "print(\"Segmenter flags:\")\n",
    "print(f\"  syncPeriodMs={sflags.syncPeriodMs}\")\n",
    "print(f\"  useCP={sflags.useCP}\")\n",
    "print(f\"  mtu={sflags.mtu}\")\n",
    "print(f\"  syncPeriods={sflags.syncPeriods}\")"
   ]
  },
  {
   "cell_type": "code",
   "execution_count": 4,
   "metadata": {},
   "outputs": [],
   "source": [
    "# Init segmenter object\n",
    "data_id = 0x0505\n",
    "eventSrc_id = 0x11223344\n",
    "\n",
    "seg = e2sar_py.DataPlane.Segmenter(seg_uri, data_id, eventSrc_id, sflags)"
   ]
  },
  {
   "cell_type": "code",
   "execution_count": 5,
   "metadata": {},
   "outputs": [],
   "source": [
    "# Start segmenter threads\n",
    "res = seg.OpenAndStart()\n",
    "\n",
    "try:\n",
    "    assert res.value() == 0\n",
    "except RuntimeError as e:\n",
    "    print(\"Segmenter::OpenAndStart error:\", e)\n",
    "\n",
    "res = seg.getSendStats()\n",
    "try:\n",
    "    assert(res[1] == 0)\n",
    "except RuntimeError as e:\n",
    "    print(f\"Error encountered after opening send socket: {res[2]}\")"
   ]
  },
  {
   "cell_type": "code",
   "execution_count": 6,
   "metadata": {},
   "outputs": [
    {
     "name": "stdout",
     "output_type": "stream",
     "text": [
      "b'THIS IS A VERY LONG EVENT MESSAGE WE WANT TO SEND EVERY 1 SECONDS.'\n",
      "66\n"
     ]
    }
   ],
   "source": [
    "SEND_STR = \"THIS IS A VERY LONG EVENT MESSAGE WE WANT TO SEND EVERY 1 SECONDS.\"\n",
    "\n",
    "send_context = SEND_STR.encode('utf-8')\n",
    "print(send_context)\n",
    "print(len(send_context))"
   ]
  },
  {
   "cell_type": "code",
   "execution_count": 7,
   "metadata": {},
   "outputs": [
    {
     "name": "stdout",
     "output_type": "stream",
     "text": [
      "Round 1\n",
      "Round 2\n",
      "Round 3\n",
      "Round 4\n",
      "Round 5\n"
     ]
    }
   ],
   "source": [
    "# Send the data\n",
    "for i in range(5):\n",
    "    print(f\"Round {i + 1}\")\n",
    "    res = seg.addToSendQueue(send_context, len(send_context))\n",
    "    assert(res.value() == 0)\n",
    "    res = seg.getSendStats()\n",
    "    # print(res)\n",
    "    if (res[1] != 0):\n",
    "        print(f\"  Error encountered sending event frame: {i}, errormsg: {res[2]}\")\n",
    "    time.sleep(1)"
   ]
  },
  {
   "cell_type": "code",
   "execution_count": 8,
   "metadata": {},
   "outputs": [
    {
     "name": "stdout",
     "output_type": "stream",
     "text": [
      "Sent 5 data frames\n",
      "Error --  code: 1; errormsg: 111\n"
     ]
    }
   ],
   "source": [
    "res = seg.getSendStats()\n",
    "assert(res[0] == 5)\n",
    "print(f\"Sent {res[0]} data frames\")\n",
    "\n",
    "if (res[1] != 0):\n",
    "    print(f\"Error --  code: {res[1]}; errormsg: {res[2]}\")\n"
   ]
  },
  {
   "cell_type": "markdown",
   "metadata": {},
   "source": [
    "## DPReasTest2\n",
    "\n",
    "Test segmentation and reassembly on local host with no control plane (basic segmentation) using small MTU."
   ]
  },
  {
   "cell_type": "code",
   "execution_count": 9,
   "metadata": {},
   "outputs": [
    {
     "name": "stdout",
     "output_type": "stream",
     "text": [
      "Segmenter flags:\n",
      "  syncPeriodMs=1000\n",
      "  useCP=False\n",
      "  mtu=80\n",
      "  syncPeriods=5\n"
     ]
    }
   ],
   "source": [
    "# Set up sflags\n",
    "sflags = e2sar_py.DataPlane.SegmenterFlags()\n",
    "sflags.useCP = False  # turn off CP. Default value is True\n",
    "sflags.syncPeriodMs = 1000\n",
    "sflags.syncPeriods = 5\n",
    "sflags.mtu = 80\n",
    "\n",
    "assert(sflags.syncPeriodMs == 1000)\n",
    "assert(sflags.useCP == False)\n",
    "assert(sflags.syncPeriods == 5)\n",
    "assert(sflags.mtu == 80)\n",
    "\n",
    "print(\"Segmenter flags:\")\n",
    "print(f\"  syncPeriodMs={sflags.syncPeriodMs}\")\n",
    "print(f\"  useCP={sflags.useCP}\")\n",
    "print(f\"  mtu={sflags.mtu}\")\n",
    "print(f\"  syncPeriods={sflags.syncPeriods}\")"
   ]
  },
  {
   "cell_type": "code",
   "execution_count": 10,
   "metadata": {},
   "outputs": [],
   "source": [
    "seg = e2sar_py.DataPlane.Segmenter(seg_uri, data_id, eventSrc_id, sflags)\n",
    "\n",
    "res = seg.OpenAndStart()\n",
    "\n",
    "try:\n",
    "    assert(res.value() == 0)\n",
    "except RuntimeError as e:\n",
    "    print(\"Segmenter::OpenAndStart error:\", e)\n",
    "\n",
    "res = seg.getSendStats()\n",
    "try:\n",
    "    assert(res[1] == 0)\n",
    "except RuntimeError as e:\n",
    "    print(f\"Error encountered after opening send socket: {res[2]}\")\n",
    "\n"
   ]
  },
  {
   "cell_type": "code",
   "execution_count": 12,
   "metadata": {},
   "outputs": [
    {
     "name": "stdout",
     "output_type": "stream",
     "text": [
      "Round 1\n",
      "  SendStats: (10, 5, 111)\n",
      "  Error encountered sending event frame: 0, errormsg: 111\n",
      "Round 2\n",
      "  SendStats: (13, 6, 111)\n",
      "  Error encountered sending event frame: 1, errormsg: 111\n",
      "Round 3\n",
      "  SendStats: (14, 7, 111)\n",
      "  Error encountered sending event frame: 2, errormsg: 111\n",
      "Round 4\n",
      "  SendStats: (17, 8, 111)\n",
      "  Error encountered sending event frame: 3, errormsg: 111\n",
      "Round 5\n",
      "  SendStats: (18, 9, 111)\n",
      "  Error encountered sending event frame: 4, errormsg: 111\n"
     ]
    }
   ],
   "source": [
    "for i in range(5):\n",
    "    print(f\"Round {i + 1}\")\n",
    "    res = seg.addToSendQueue(send_context, len(send_context))\n",
    "    assert(res.value() == 0)\n",
    "    res = seg.getSendStats()\n",
    "    if (res[1] != 0):\n",
    "        print(f\"  SendStats: {res}\")\n",
    "        print(f\"  Error encountered sending event frame: {i}, errormsg: {res[2]}\")\n",
    "    time.sleep(5)"
   ]
  }
 ],
 "metadata": {
  "kernelspec": {
   "display_name": ".venv",
   "language": "python",
   "name": "python3"
  },
  "language_info": {
   "codemirror_mode": {
    "name": "ipython",
    "version": 3
   },
   "file_extension": ".py",
   "mimetype": "text/x-python",
   "name": "python",
   "nbconvert_exporter": "python",
   "pygments_lexer": "ipython3",
   "version": "3.11.9"
  }
 },
 "nbformat": 4,
 "nbformat_minor": 2
}
