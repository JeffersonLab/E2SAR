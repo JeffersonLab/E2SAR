{
 "cells": [
  {
   "cell_type": "markdown",
   "metadata": {},
   "source": [
    "# Test the functionality of DataPlane Python bindings\n",
    "\n",
    "Mimic the `e2sar_reas_test` in the C++ unit test suite."
   ]
  },
  {
   "cell_type": "code",
   "execution_count": 1,
   "metadata": {},
   "outputs": [],
   "source": [
    "import time\n",
    "import sys\n",
    "\n",
    "## IMPORTANT: Update the path to your built Python module. Use the absolute path to make life easier.\n",
    "sys.path.append(\n",
    "    '/home/xmei/Documents/hpdf_projects/E2SAR/build/src/pybind')\n",
    "\n",
    "import e2sar_py"
   ]
  },
  {
   "cell_type": "code",
   "execution_count": 2,
   "metadata": {},
   "outputs": [],
   "source": [
    "\n",
    "# dir(e2sar_py.DataPlane)\n",
    "# dir(e2sar_py.DataPlane.Reassembler)\n",
    "# dir(e2sar_py.DataPlane.Segmenter)"
   ]
  },
  {
   "cell_type": "code",
   "execution_count": 3,
   "metadata": {},
   "outputs": [],
   "source": [
    "DP_IPV4 = \"127.0.0.1\"\n",
    "data_id = 0x0505   # decimal value: 1085\n",
    "eventSrc_id = 0x11223344   # decimal value: 287454020"
   ]
  },
  {
   "cell_type": "markdown",
   "metadata": {},
   "source": [
    "## DPReasTest1\n",
    "\n",
    "This is a test that uses local host to send/receive fragments. It does NOT use control plane.\n",
    "\n",
    "\n",
    "1. First initialize \"Segmenter\" objects."
   ]
  },
  {
   "cell_type": "code",
   "execution_count": 4,
   "metadata": {},
   "outputs": [
    {
     "name": "stdout",
     "output_type": "stream",
     "text": [
      "Segmenter flags:\n",
      "  syncPeriodMs=1000\n",
      "  useCP=False\n",
      "  mtu=1500\n",
      "  syncPeriods=5\n"
     ]
    }
   ],
   "source": [
    "# Set up URI for segmenter\n",
    "SEG_URI = f\"ejfat://useless@192.168.100.1:9876/lb/1?sync=192.168.0.1:12345&data={DP_IPV4}\"\n",
    "seg_uri = e2sar_py.EjfatURI(uri=SEG_URI, tt=e2sar_py.EjfatURI.TokenType.instance)\n",
    "\n",
    "# Set up sflags\n",
    "sflags = e2sar_py.DataPlane.SegmenterFlags()\n",
    "sflags.useCP = False  # turn off CP. Default value is True\n",
    "sflags.syncPeriodMs = 1000\n",
    "sflags.syncPeriods = 5\n",
    "\n",
    "assert(sflags.syncPeriodMs == 1000)\n",
    "assert(sflags.useCP == False)\n",
    "assert(sflags.syncPeriods == 5)\n",
    "\n",
    "print(\"Segmenter flags:\")\n",
    "print(f\"  syncPeriodMs={sflags.syncPeriodMs}\")\n",
    "print(f\"  useCP={sflags.useCP}\")\n",
    "print(f\"  mtu={sflags.mtu}\")\n",
    "print(f\"  syncPeriods={sflags.syncPeriods}\")"
   ]
  },
  {
   "cell_type": "code",
   "execution_count": 5,
   "metadata": {},
   "outputs": [],
   "source": [
    "# Init segmenter object\n",
    "seg = e2sar_py.DataPlane.Segmenter(seg_uri, data_id, eventSrc_id, sflags)"
   ]
  },
  {
   "cell_type": "markdown",
   "metadata": {},
   "source": [
    "The message we need to send."
   ]
  },
  {
   "cell_type": "code",
   "execution_count": 6,
   "metadata": {},
   "outputs": [
    {
     "name": "stdout",
     "output_type": "stream",
     "text": [
      "b'THIS IS A VERY LONG EVENT MESSAGE WE WANT TO SEND EVERY 1 SECONDS.'\n",
      "66\n"
     ]
    }
   ],
   "source": [
    "SEND_STR = \"THIS IS A VERY LONG EVENT MESSAGE WE WANT TO SEND EVERY 1 SECONDS.\"\n",
    "\n",
    "send_context = SEND_STR.encode('utf-8')\n",
    "print(send_context)\n",
    "print(len(send_context))"
   ]
  },
  {
   "cell_type": "markdown",
   "metadata": {},
   "source": [
    "2. Initilize the Reassembler."
   ]
  },
  {
   "cell_type": "code",
   "execution_count": 7,
   "metadata": {},
   "outputs": [
    {
     "name": "stdout",
     "output_type": "stream",
     "text": [
      "Instance Token: useless\n",
      "Data Plane Address (v4): 127.0.0.1\n",
      "Reassembler flags:\n",
      "  period_ms=100\n",
      "  useCP=False\n",
      "  validateCert = True\n",
      "  epoch_ms = 1000\n",
      "  setPoint = 0.0\n",
      "  [Kp, Ki, Kd] = [0.0, 0.0, 0.0]\n",
      "  dpV6 = False\n",
      "  cpV6 = False\n",
      "  portRange = -1\n",
      "  withLBHeader = True\n"
     ]
    }
   ],
   "source": [
    "# Set the reassembler URI\n",
    "REAS_URI_ = f\"ejfat://useless@192.168.100.1:9876/lb/1?sync=192.168.0.1:12345&data={DP_IPV4}\"\n",
    "reas_uri = e2sar_py.EjfatURI(uri=REAS_URI_, tt=e2sar_py.EjfatURI.TokenType.instance)\n",
    "\n",
    "# Make sure the token matches the one in the string\n",
    "def get_inst_token(uri : e2sar_py.EjfatURI):\n",
    "    try:\n",
    "        token = uri.get_instance_token().value()\n",
    "        print(\"Instance Token:\", token)\n",
    "    except RuntimeError as e:\n",
    "        print(\"Instance Token - Error:\", e)\n",
    "\n",
    "get_inst_token(reas_uri)\n",
    "\n",
    "# Get data plane IPv4 address\n",
    "print(\"Data Plane Address (v4):\", str(reas_uri.get_data_addr_v4().value()[0]))\n",
    "\n",
    "# Config the reassembler flags\n",
    "\n",
    "rflags = e2sar_py.DataPlane.ReassemblerFlags()\n",
    "rflags.useCP = False  # turn off CP. Default value is True\n",
    "rflags.withLBHeader = True  # LB header will be attached since there is no LB\n",
    "\n",
    "assert rflags.period_ms == 100  # default value of the C++ constructor\n",
    "assert rflags.useCP == False\n",
    "\n",
    "print(\"Reassembler flags:\")\n",
    "print(f\"  period_ms={rflags.period_ms}\")  # should be 100 according to the C++ constructor\n",
    "print(f\"  useCP={rflags.useCP}\")\n",
    "print(f\"  validateCert = {rflags.validateCert}\")\n",
    "print(f\"  epoch_ms = {rflags.epoch_ms}\")\n",
    "print(f\"  setPoint = {rflags.setPoint}\")\n",
    "print(f\"  [Kp, Ki, Kd] = [{rflags.Kp}, {rflags.Ki}, {rflags.Kd}]\")\n",
    "print(f\"  dpV6 = {rflags.dpV6}\")\n",
    "print(f\"  cpV6 = {rflags.cpV6}\")\n",
    "print(f\"  portRange = {rflags.portRange}\")\n",
    "print(f\"  withLBHeader = {rflags.withLBHeader}\")\n",
    "\n",
    "# Init the reassembler object\n",
    "# print(type(reas_uri), type(1), type(rflags))\n",
    "reas = e2sar_py.DataPlane.Reassembler(reas_uri, 1, rflags)\n"
   ]
  },
  {
   "cell_type": "code",
   "execution_count": 8,
   "metadata": {},
   "outputs": [],
   "source": [
    "\n",
    "res = reas.OpenAndStart()  # the DP address must be available\n",
    "assert res.value() == 0"
   ]
  },
  {
   "cell_type": "code",
   "execution_count": 9,
   "metadata": {},
   "outputs": [
    {
     "name": "stdout",
     "output_type": "stream",
     "text": [
      "(0, 0, 0, 0, 0, <E2SARErrorc.NoError: 0>)\n"
     ]
    }
   ],
   "source": [
    "res = reas.getStats()\n",
    "print(res)"
   ]
  },
  {
   "cell_type": "markdown",
   "metadata": {},
   "source": [
    "3. Send the contexts with the Segmenter object."
   ]
  },
  {
   "cell_type": "code",
   "execution_count": 10,
   "metadata": {},
   "outputs": [],
   "source": [
    "# Start segmenter threads\n",
    "res = seg.OpenAndStart()\n",
    "assert res.value() == 0\n",
    "\n",
    "res = seg.getSendStats()\n",
    "if (res[1] != 0):\n",
    "    print(f\"Error encountered after opening send socket: {res[2]}\")\n",
    "    # exit(-1)"
   ]
  },
  {
   "cell_type": "code",
   "execution_count": 11,
   "metadata": {},
   "outputs": [
    {
     "name": "stdout",
     "output_type": "stream",
     "text": [
      "Sending data...                Rd 0\n",
      "Sending data...                Rd 1\n",
      "Sending data...                Rd 2\n",
      "Sending data...                Rd 3\n",
      "Sending data...                Rd 4\n",
      "Sent 5 data frames\n"
     ]
    }
   ],
   "source": [
    "# Send the data\n",
    "for i in range(5):\n",
    "    print(f\"Sending data...                Rd {i}\")\n",
    "    res = seg.addToSendQueue(send_context, len(send_context))\n",
    "    assert(res.value() == 0)\n",
    "    res = seg.getSendStats()\n",
    "    if (res[1] != 0):\n",
    "        print(f\"  SendStats: {res}\")\n",
    "        print(f\"  Error encountered sending event frame: {i}, error: {res[2]}\")\n",
    "    time.sleep(1)\n",
    "\n",
    "res = seg.getSendStats()\n",
    "# assert(res[0] == 5)  # hold for the first run\n",
    "print(f\"Sent {res[0]} data frames\")\n",
    "\n",
    "if (res[1] != 0):\n",
    "    print(f\"SendStats: {res}\")\n",
    "    print(f\"After sending data --  error: {res[2]}\")\n",
    "    # exit()"
   ]
  },
  {
   "cell_type": "code",
   "execution_count": 12,
   "metadata": {},
   "outputs": [
    {
     "name": "stdout",
     "output_type": "stream",
     "text": [
      "Receiving data...                Rd 0\n",
      "  recv_buf:\t THIS IS A VERY LONG EVENT MESSAGE WE WANT TO SEND EVERY 1 SECONDS.\n",
      "  bufLen:\t 66\n",
      "  eventNum:\t 0\n",
      "  dataId:\t 1285\n",
      "Receiving data...                Rd 1\n",
      "  recv_buf:\t THIS IS A VERY LONG EVENT MESSAGE WE WANT TO SEND EVERY 1 SECONDS.\n",
      "  bufLen:\t 66\n",
      "  eventNum:\t 1\n",
      "  dataId:\t 1285\n",
      "Receiving data...                Rd 2\n",
      "  recv_buf:\t THIS IS A VERY LONG EVENT MESSAGE WE WANT TO SEND EVERY 1 SECONDS.\n",
      "  bufLen:\t 66\n",
      "  eventNum:\t 2\n",
      "  dataId:\t 1285\n",
      "Receiving data...                Rd 3\n",
      "  recv_buf:\t THIS IS A VERY LONG EVENT MESSAGE WE WANT TO SEND EVERY 1 SECONDS.\n",
      "  bufLen:\t 66\n",
      "  eventNum:\t 3\n",
      "  dataId:\t 1285\n",
      "Receiving data...                Rd 4\n",
      "  recv_buf:\t THIS IS A VERY LONG EVENT MESSAGE WE WANT TO SEND EVERY 1 SECONDS.\n",
      "  bufLen:\t 66\n",
      "  eventNum:\t 4\n",
      "  dataId:\t 1285\n"
     ]
    }
   ],
   "source": [
    "\n",
    "# Prepare Python list to hold the output data\n",
    "recv_bytes_list = [None]  # Placeholder for the byte buffer\n",
    "\n",
    "# Call getEvent on the instance\n",
    "for i in range(5):\n",
    "    print(f\"Receiving data...                Rd {i}\")\n",
    "    res, recv_event_len, recv_event_num, recv_data_id = reas.getEvent(recv_bytes_list)\n",
    "\n",
    "    if (res != 0):  # -1 or -2 (has_error)\n",
    "        continue\n",
    "    recv = recv_bytes_list[0].decode('utf-8')\n",
    "    print(f\"  recv_buf:\\t {recv}\")\n",
    "    assert(recv_data_id == data_id)\n",
    "    print(f\"  bufLen:\\t {recv_event_len}\")\n",
    "    print(f\"  eventNum:\\t {recv_event_num}\")\n",
    "    print(f\"  dataId:\\t {recv_data_id}\")\n"
   ]
  },
  {
   "cell_type": "markdown",
   "metadata": {},
   "source": [
    "## DPReasTest2\n",
    "\n",
    "Test segmentation and reassembly on local host with no control plane (basic segmentation) using small MTU."
   ]
  },
  {
   "cell_type": "code",
   "execution_count": 13,
   "metadata": {},
   "outputs": [
    {
     "name": "stdout",
     "output_type": "stream",
     "text": [
      "Segmenter flags:\n",
      "  syncPeriodMs=1000\n",
      "  useCP=False\n",
      "  mtu=80\n",
      "  syncPeriods=5\n"
     ]
    }
   ],
   "source": [
    "# Set up sflags\n",
    "sflags2 = e2sar_py.DataPlane.SegmenterFlags()\n",
    "sflags2.useCP = False  # turn off CP. Default value is True\n",
    "sflags2.syncPeriodMs = 1000\n",
    "sflags2.syncPeriods = 5\n",
    "sflags2.mtu = 80\n",
    "\n",
    "assert(sflags2.syncPeriodMs == 1000)\n",
    "assert(sflags2.useCP == False)\n",
    "assert(sflags2.syncPeriods == 5)\n",
    "assert(sflags2.mtu == 80)\n",
    "\n",
    "print(\"Segmenter flags:\")\n",
    "print(f\"  syncPeriodMs={sflags2.syncPeriodMs}\")\n",
    "print(f\"  useCP={sflags2.useCP}\")\n",
    "print(f\"  mtu={sflags2.mtu}\")\n",
    "print(f\"  syncPeriods={sflags2.syncPeriods}\")"
   ]
  },
  {
   "cell_type": "code",
   "execution_count": 14,
   "metadata": {},
   "outputs": [],
   "source": [
    "SEG_URI2 = f\"ejfat://useless@192.168.100.1:9876/lb/1?sync=192.168.0.1:12345&data={DP_IPV4}\"\n",
    "seg_uri2 = e2sar_py.EjfatURI(uri=SEG_URI2, tt=e2sar_py.EjfatURI.TokenType.instance)"
   ]
  },
  {
   "cell_type": "code",
   "execution_count": 15,
   "metadata": {},
   "outputs": [],
   "source": [
    "# Initialize a new Segmenter objects\n",
    "seg2 = e2sar_py.DataPlane.Segmenter(seg_uri2, data_id, eventSrc_id, sflags2)\n",
    "\n",
    "res = seg2.OpenAndStart()\n",
    "assert(res.value() == 0)\n",
    "\n",
    "res = seg2.getSendStats()\n",
    "if (res[1] != 0):\n",
    "    print(f\"Error encountered after opening send socket: {res[2]}\")\n",
    "    # exit(-1)"
   ]
  },
  {
   "cell_type": "code",
   "execution_count": 16,
   "metadata": {},
   "outputs": [
    {
     "name": "stdout",
     "output_type": "stream",
     "text": [
      "Sending data...                Rd 0\n",
      "Sending data...                Rd 1\n",
      "Sending data...                Rd 2\n",
      "Sending data...                Rd 3\n",
      "Sending data...                Rd 4\n",
      "Sent 25 data frames\n"
     ]
    }
   ],
   "source": [
    "# Send data with the small MTU\n",
    "for i in range(5):\n",
    "    print(f\"Sending data...                Rd {i}\")\n",
    "    res = seg2.addToSendQueue(send_context, len(send_context))\n",
    "    assert(res.value() == 0)\n",
    "    res = seg2.getSendStats()\n",
    "    # print(f\"  getSendStats:\\t {res}\")\n",
    "    if (res[1] != 0):\n",
    "        print(f\"  SendStats: {res}\")\n",
    "        print(f\"  Error encountered sending event frame: {i}, error: {res[2]}\")\n",
    "    time.sleep(1)\n",
    "\n",
    "res = seg2.getSendStats()\n",
    "# assert(res[0] == 25)  # hold for the 1st run\n",
    "print(f\"Sent {res[0]} data frames\")\n",
    "\n",
    "if (res[1] != 0):\n",
    "    print(f\"SendStats: {res}\")\n",
    "    print(f\"After sending data --  error: {res[2]}\")\n",
    "    # exit()"
   ]
  },
  {
   "cell_type": "code",
   "execution_count": 17,
   "metadata": {},
   "outputs": [
    {
     "name": "stdout",
     "output_type": "stream",
     "text": [
      "Receiving data...                Rd 0\n",
      "  recv_buf:\t THIS IS A VERY LONG EVENT MESSAGE WE WANT TO SEND EVERY 1 SECONDS.\n",
      "  bufLen:\t 66\n",
      "  eventNum:\t 0\n",
      "  dataId:\t 1285\n",
      "Receiving data...                Rd 1\n",
      "  recv_buf:\t THIS IS A VERY LONG EVENT MESSAGE WE WANT TO SEND EVERY 1 SECONDS.\n",
      "  bufLen:\t 66\n",
      "  eventNum:\t 1\n",
      "  dataId:\t 1285\n",
      "Receiving data...                Rd 2\n",
      "  recv_buf:\t THIS IS A VERY LONG EVENT MESSAGE WE WANT TO SEND EVERY 1 SECONDS.\n",
      "  bufLen:\t 66\n",
      "  eventNum:\t 2\n",
      "  dataId:\t 1285\n",
      "Receiving data...                Rd 3\n",
      "  recv_buf:\t THIS IS A VERY LONG EVENT MESSAGE WE WANT TO SEND EVERY 1 SECONDS.\n",
      "  bufLen:\t 66\n",
      "  eventNum:\t 3\n",
      "  dataId:\t 1285\n",
      "Receiving data...                Rd 4\n",
      "  recv_buf:\t THIS IS A VERY LONG EVENT MESSAGE WE WANT TO SEND EVERY 1 SECONDS.\n",
      "  bufLen:\t 66\n",
      "  eventNum:\t 4\n",
      "  dataId:\t 1285\n"
     ]
    }
   ],
   "source": [
    "# Prepare Python list to hold the output data\n",
    "recv_bytes_list = [None]  # Placeholder for the byte buffer\n",
    "\n",
    "# Call getEvent on the instance\n",
    "for i in range(5):\n",
    "    print(f\"Receiving data...                Rd {i}\")\n",
    "    res, recv_event_len, recv_event_num, recv_data_id = reas.getEvent(recv_bytes_list)\n",
    "\n",
    "    if (res != 0):  # -1 or -2 (has_error)\n",
    "        continue\n",
    "    recv = recv_bytes_list[0].decode('utf-8')\n",
    "    print(f\"  recv_buf:\\t {recv}\")\n",
    "    assert(recv_data_id == data_id)\n",
    "    print(f\"  bufLen:\\t {recv_event_len}\")\n",
    "    print(f\"  eventNum:\\t {recv_event_num}\")\n",
    "    print(f\"  dataId:\\t {recv_data_id}\")"
   ]
  },
  {
   "cell_type": "markdown",
   "metadata": {},
   "source": [
    "## DPReasTest3\n",
    "\n",
    "Test creationg of reassemblers with different parameters. No real sending or receiving code is executed."
   ]
  },
  {
   "cell_type": "code",
   "execution_count": 18,
   "metadata": {},
   "outputs": [
    {
     "name": "stdout",
     "output_type": "stream",
     "text": [
      "This reassembler has\n",
      "   1 threads;\n",
      "   listening on ports 19522:19522;\n",
      "   using portRange: 0.\n"
     ]
    }
   ],
   "source": [
    "# Create reassembler with 1 recv thread\n",
    "\n",
    "rflags_m = e2sar_py.DataPlane.ReassemblerFlags()\n",
    "reas_a = e2sar_py.DataPlane.Reassembler(reas_uri, 1, rflags_m)\n",
    "\n",
    "print(\"This reassembler has\")\n",
    "print(f\"   {reas_a.get_numRecvThreads()} threads;\")\n",
    "print(f\"   listening on ports {reas_a.get_recvPorts()[0]}:{reas_a.get_recvPorts()[1]};\")\n",
    "print(f\"   using portRange: {reas_a.get_portRange()}.\")\n",
    "\n",
    "assert reas_a.get_numRecvThreads() == 1\n",
    "assert reas_a.get_recvPorts() == (19522, 19522)\n",
    "assert reas_a.get_portRange() == 0"
   ]
  },
  {
   "cell_type": "code",
   "execution_count": 19,
   "metadata": {},
   "outputs": [
    {
     "name": "stdout",
     "output_type": "stream",
     "text": [
      "This reassembler has\n",
      "   4 threads;\n",
      "   listening on ports 19522:19525;\n",
      "   using portRange: 2.\n"
     ]
    }
   ],
   "source": [
    "# Create reassembler with 4 recv threads\n",
    "reas_b = e2sar_py.DataPlane.Reassembler(reas_uri, 4, rflags_m)\n",
    "\n",
    "print(\"This reassembler has\")\n",
    "print(f\"   {reas_b.get_numRecvThreads()} threads;\")\n",
    "print(f\"   listening on ports {reas_b.get_recvPorts()[0]}:{reas_b.get_recvPorts()[1]};\")\n",
    "print(f\"   using portRange: {reas_b.get_portRange()}.\")\n",
    "\n",
    "assert reas_b.get_numRecvThreads() == 4\n",
    "assert reas_b.get_recvPorts() == (19522, 19525)\n",
    "assert reas_b.get_portRange() == 2"
   ]
  },
  {
   "cell_type": "code",
   "execution_count": 20,
   "metadata": {},
   "outputs": [
    {
     "name": "stdout",
     "output_type": "stream",
     "text": [
      "This reassembler has\n",
      "   7 threads;\n",
      "   listening on ports 19522:19529;\n",
      "   using portRange: 3.\n"
     ]
    }
   ],
   "source": [
    "# Create reassembler with 7 recv threads\n",
    "reas_c = e2sar_py.DataPlane.Reassembler(reas_uri, 7, rflags_m)\n",
    "\n",
    "print(\"This reassembler has\")\n",
    "print(f\"   {reas_c.get_numRecvThreads()} threads;\")\n",
    "print(f\"   listening on ports {reas_c.get_recvPorts()[0]}:{reas_c.get_recvPorts()[1]};\")\n",
    "print(f\"   using portRange: {reas_c.get_portRange()}.\")\n",
    "\n",
    "assert reas_c.get_numRecvThreads() == 7\n",
    "assert reas_c.get_recvPorts() == (19522, 19529)\n",
    "assert reas_c.get_portRange() == 3"
   ]
  },
  {
   "cell_type": "code",
   "execution_count": 21,
   "metadata": {},
   "outputs": [
    {
     "name": "stdout",
     "output_type": "stream",
     "text": [
      "This reassembler has\n",
      "   4 threads;\n",
      "   listening on ports 19522:20545;\n",
      "   using portRange: 10.\n"
     ]
    }
   ],
   "source": [
    "# 4 threads with portRange override\n",
    "rflags_m.portRange = 10\n",
    "\n",
    "reas_d = e2sar_py.DataPlane.Reassembler(reas_uri, 4, rflags_m)\n",
    "\n",
    "print(\"This reassembler has\")\n",
    "print(f\"   {reas_d.get_numRecvThreads()} threads;\")\n",
    "print(f\"   listening on ports {reas_d.get_recvPorts()[0]}:{reas_d.get_recvPorts()[1]};\")\n",
    "print(f\"   using portRange: {reas_d.get_portRange()}.\")\n",
    "\n",
    "assert reas_d.get_numRecvThreads() == 4\n",
    "assert reas_d.get_recvPorts() == (19522, 20545)\n",
    "assert reas_d.get_portRange() == 10\n"
   ]
  },
  {
   "cell_type": "code",
   "execution_count": 22,
   "metadata": {},
   "outputs": [
    {
     "name": "stdout",
     "output_type": "stream",
     "text": [
      "This reassembler has\n",
      "   4 threads;\n",
      "   listening on ports 19522:19523;\n",
      "   using portRange: 1.\n"
     ]
    }
   ],
   "source": [
    "# 4 threads with low portRange override\n",
    "rflags_m.portRange = 1\n",
    "\n",
    "reas_e = e2sar_py.DataPlane.Reassembler(reas_uri, 4, rflags_m)\n",
    "\n",
    "print(\"This reassembler has\")\n",
    "print(f\"   {reas_e.get_numRecvThreads()} threads;\")\n",
    "print(f\"   listening on ports {reas_e.get_recvPorts()[0]}:{reas_e.get_recvPorts()[1]};\")\n",
    "print(f\"   using portRange: {reas_e.get_portRange()}.\")\n",
    "\n",
    "assert reas_e.get_numRecvThreads() == 4\n",
    "assert reas_e.get_recvPorts() == (19522, 19523)\n",
    "assert reas_e.get_portRange() == 1"
   ]
  }
 ],
 "metadata": {
  "kernelspec": {
   "display_name": ".venv",
   "language": "python",
   "name": "python3"
  },
  "language_info": {
   "codemirror_mode": {
    "name": "ipython",
    "version": 3
   },
   "file_extension": ".py",
   "mimetype": "text/x-python",
   "name": "python",
   "nbconvert_exporter": "python",
   "pygments_lexer": "ipython3",
   "version": "3.11.9"
  }
 },
 "nbformat": 4,
 "nbformat_minor": 2
}
