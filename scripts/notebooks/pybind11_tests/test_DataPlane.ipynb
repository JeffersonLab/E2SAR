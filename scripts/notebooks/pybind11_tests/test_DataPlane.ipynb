{
 "cells": [
  {
   "cell_type": "markdown",
   "metadata": {},
   "source": [
    "# Test the functionality of DataPlane Python bindings\n",
    "\n",
    "Mimic the `e2sar_reas_test` in the C++ unit test suite."
   ]
  },
  {
   "cell_type": "code",
   "execution_count": 1,
   "metadata": {},
   "outputs": [
    {
     "data": {
      "text/plain": [
       "['Reassembler',\n",
       " 'ReassemblerFlags',\n",
       " '__doc__',\n",
       " '__loader__',\n",
       " '__name__',\n",
       " '__package__',\n",
       " '__spec__']"
      ]
     },
     "execution_count": 1,
     "metadata": {},
     "output_type": "execute_result"
    }
   ],
   "source": [
    "import sys\n",
    "\n",
    "## IMPORTANT: Update the path to your built Python module\n",
    "sys.path.append(\n",
    "    '/home/xmei/Documents/hpdf_projects/E2SAR/build/src/pybind')\n",
    "\n",
    "import e2sar_py\n",
    "\n",
    "dir(e2sar_py.DataPlane)"
   ]
  },
  {
   "cell_type": "markdown",
   "metadata": {},
   "source": [
    "## DPReasTest1\n",
    "\n",
    "This is a test that uses local host to send/receive fragments. It does NOT use control plane.\n",
    "\n",
    "\n",
    "1. First confirm the \"Reassembler\" bindings are working."
   ]
  },
  {
   "cell_type": "code",
   "execution_count": 2,
   "metadata": {},
   "outputs": [
    {
     "name": "stdout",
     "output_type": "stream",
     "text": [
      "Instance Token: useless\n",
      "Data Plane Address (v4): 127.0.0.1\n"
     ]
    }
   ],
   "source": [
    "# Set the reassembler URI\n",
    "REAS_URI_ = \"ejfat://useless@192.168.100.1:9876/lb/1?sync=192.168.0.1:12345&data=127.0.0.1\"\n",
    "reas_uri = e2sar_py.EjfatURI(uri=REAS_URI_, tt=e2sar_py.EjfatURI.TokenType.instance)\n",
    "\n",
    "# Make sure the token matches the one in the string\n",
    "def get_inst_token(uri : e2sar_py.EjfatURI):\n",
    "    try:\n",
    "        token = uri.get_instance_token().value()\n",
    "        print(\"Instance Token:\", token)\n",
    "    except RuntimeError as e:\n",
    "        print(\"Instance Token - Error:\", e)\n",
    "\n",
    "get_inst_token(reas_uri)\n",
    "\n",
    "# Get data plane IPv4 address\n",
    "print(\"Data Plane Address (v4):\", str(reas_uri.get_data_addr_v4().value()[0]))"
   ]
  },
  {
   "cell_type": "code",
   "execution_count": 3,
   "metadata": {},
   "outputs": [
    {
     "name": "stdout",
     "output_type": "stream",
     "text": [
      "Reassembler flags:\n",
      "  period_ms=100\n",
      "  useCP=False\n"
     ]
    }
   ],
   "source": [
    "# Config the reassembler flags\n",
    "\n",
    "rflags = e2sar_py.DataPlane.ReassemblerFlags()\n",
    "rflags.useCP = False  # turn off CP. Default value is True\n",
    "rflags.withLBHeader = True  # LB header will be attached since there is no LB\n",
    "\n",
    "print(\"Reassembler flags:\")\n",
    "print(f\"  period_ms={rflags.period_ms}\")  # should be 100 according to C++ constructor\n",
    "print(f\"  useCP={rflags.useCP}\")\n"
   ]
  },
  {
   "cell_type": "code",
   "execution_count": 4,
   "metadata": {},
   "outputs": [
    {
     "data": {
      "text/plain": [
       "['__class__',\n",
       " '__delattr__',\n",
       " '__dir__',\n",
       " '__doc__',\n",
       " '__eq__',\n",
       " '__format__',\n",
       " '__ge__',\n",
       " '__getattribute__',\n",
       " '__getstate__',\n",
       " '__gt__',\n",
       " '__hash__',\n",
       " '__init__',\n",
       " '__init_subclass__',\n",
       " '__le__',\n",
       " '__lt__',\n",
       " '__module__',\n",
       " '__ne__',\n",
       " '__new__',\n",
       " '__reduce__',\n",
       " '__reduce_ex__',\n",
       " '__repr__',\n",
       " '__setattr__',\n",
       " '__sizeof__',\n",
       " '__str__',\n",
       " '__subclasshook__',\n",
       " 'from_thread_num']"
      ]
     },
     "execution_count": 4,
     "metadata": {},
     "output_type": "execute_result"
    }
   ],
   "source": [
    "dir(e2sar_py.DataPlane.Reassembler)"
   ]
  },
  {
   "cell_type": "code",
   "execution_count": 5,
   "metadata": {},
   "outputs": [
    {
     "ename": "RuntimeError",
     "evalue": "Caught an unknown exception!",
     "output_type": "error",
     "traceback": [
      "\u001b[0;31m---------------------------------------------------------------------------\u001b[0m",
      "\u001b[0;31mRuntimeError\u001b[0m                              Traceback (most recent call last)",
      "Cell \u001b[0;32mIn[5], line 3\u001b[0m\n\u001b[1;32m      1\u001b[0m \u001b[38;5;66;03m# Init the reassembler object\u001b[39;00m\n\u001b[1;32m      2\u001b[0m \u001b[38;5;66;03m# print(type(reas_uri), type(1), type(rflags))\u001b[39;00m\n\u001b[0;32m----> 3\u001b[0m reas \u001b[38;5;241m=\u001b[39m \u001b[43me2sar_py\u001b[49m\u001b[38;5;241;43m.\u001b[39;49m\u001b[43mDataPlane\u001b[49m\u001b[38;5;241;43m.\u001b[39;49m\u001b[43mReassembler\u001b[49m\u001b[43m(\u001b[49m\u001b[43mreas_uri\u001b[49m\u001b[43m,\u001b[49m\u001b[43m \u001b[49m\u001b[38;5;241;43m1\u001b[39;49m\u001b[43m,\u001b[49m\u001b[43m \u001b[49m\u001b[43mrflags\u001b[49m\u001b[43m)\u001b[49m\n\u001b[1;32m      5\u001b[0m \u001b[38;5;66;03m# reas.from_thread_num(reas_uri, 1, rflags)\u001b[39;00m\n",
      "\u001b[0;31mRuntimeError\u001b[0m: Caught an unknown exception!"
     ]
    }
   ],
   "source": [
    "# Init the reassembler object\n",
    "# print(type(reas_uri), type(1), type(rflags))\n",
    "reas = e2sar_py.DataPlane.Reassembler(reas_uri, 1, rflags)\n",
    "\n",
    "# reas.from_thread_num(reas_uri, 1, rflags)"
   ]
  }
 ],
 "metadata": {
  "kernelspec": {
   "display_name": ".venv",
   "language": "python",
   "name": "python3"
  },
  "language_info": {
   "codemirror_mode": {
    "name": "ipython",
    "version": 3
   },
   "file_extension": ".py",
   "mimetype": "text/x-python",
   "name": "python",
   "nbconvert_exporter": "python",
   "pygments_lexer": "ipython3",
   "version": "3.11.9"
  }
 },
 "nbformat": 4,
 "nbformat_minor": 2
}
