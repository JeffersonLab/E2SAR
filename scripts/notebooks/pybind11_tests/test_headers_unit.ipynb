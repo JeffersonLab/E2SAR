{
 "cells": [
  {
   "cell_type": "code",
   "execution_count": 1,
   "metadata": {},
   "outputs": [
    {
     "name": "stdout",
     "output_type": "stream",
     "text": [
      "0.1.0a6\n"
     ]
    }
   ],
   "source": [
    "import sys\n",
    "\n",
    "## IMPORTANT: Update the path to your built Python module\n",
    "sys.path.append(\n",
    "    '/home/xmei/Documents/hpdf_projects/E2SAR/build/src/pybind')\n",
    "\n",
    "import e2sar_py\n",
    "\n",
    "# Get the version\n",
    "print(e2sar_py.get_version())\n"
   ]
  },
  {
   "cell_type": "code",
   "execution_count": 2,
   "metadata": {},
   "outputs": [
    {
     "name": "stdout",
     "output_type": "stream",
     "text": [
      "19522\n",
      "1\n",
      "16\n",
      "2\n",
      "1\n",
      "\n",
      "IP header length: 20\n",
      "UDP header length: 8\n",
      "Total header length: 64\n",
      "LB + RE header length: 36\n"
     ]
    }
   ],
   "source": [
    "# Print the constant atrributes\n",
    "print(e2sar_py._dp_port)\n",
    "print(e2sar_py._rehdr_version)\n",
    "print(e2sar_py._rehdr_version_nibble)\n",
    "print(e2sar_py._lbhdr_version)\n",
    "print(e2sar_py._synchdr_version)\n",
    "\n",
    "# The Hdr lengths\n",
    "print(f\"\\nIP header length: {e2sar_py._iphdr_len}\")\n",
    "print(f\"UDP header length: {e2sar_py._udphdr_len}\")\n",
    "print(f\"Total header length: {e2sar_py._total_hdr_len}\")\n",
    "print(f\"LB + RE header length: {e2sar_py._total_hdr_len - e2sar_py._iphdr_len - e2sar_py._udphdr_len}\")"
   ]
  },
  {
   "cell_type": "code",
   "execution_count": 3,
   "metadata": {},
   "outputs": [
    {
     "name": "stdout",
     "output_type": "stream",
     "text": [
      "['__class__', '__delattr__', '__dir__', '__doc__', '__eq__', '__format__', '__ge__', '__getattribute__', '__getstate__', '__gt__', '__hash__', '__init__', '__init_subclass__', '__le__', '__lt__', '__module__', '__ne__', '__new__', '__reduce__', '__reduce_ex__', '__repr__', '__setattr__', '__sizeof__', '__str__', '__subclasshook__', 'get_bufferLength', 'get_bufferOffset', 'get_dataId', 'get_eventNum', 'get_fields', 'set']\n"
     ]
    }
   ],
   "source": [
    "print(dir(e2sar_py.REHdr))"
   ]
  },
  {
   "cell_type": "code",
   "execution_count": 4,
   "metadata": {},
   "outputs": [
    {
     "name": "stdout",
     "output_type": "stream",
     "text": [
      "(0, 0, 0, 0)\n",
      "data_id=1\n",
      "buff_off=2\n",
      "buff_len=4\n",
      "event_num=8\n",
      "(1, 2, 4, 8)\n"
     ]
    }
   ],
   "source": [
    "rehdr = e2sar_py.REHdr()\n",
    "\n",
    "# Default fields are zeros\n",
    "print(rehdr.get_fields())\n",
    "\n",
    "# Set fields and print\n",
    "rehdr.set(data_id=0b0001, buff_off=0b0010, buff_len=0b0100, event_num=0b1000)\n",
    "print(f\"data_id={rehdr.get_dataId()}\")\n",
    "print(f\"buff_off={rehdr.get_bufferOffset()}\")\n",
    "print(f\"buff_len={rehdr.get_bufferLength()}\")\n",
    "print(f\"event_num={rehdr.get_eventNum()}\")\n",
    "print(rehdr.get_fields())"
   ]
  },
  {
   "cell_type": "code",
   "execution_count": 6,
   "metadata": {},
   "outputs": [
    {
     "name": "stdout",
     "output_type": "stream",
     "text": [
      "['__class__', '__delattr__', '__dir__', '__doc__', '__eq__', '__format__', '__ge__', '__getattribute__', '__getstate__', '__gt__', '__hash__', '__init__', '__init_subclass__', '__le__', '__lt__', '__module__', '__ne__', '__new__', '__reduce__', '__reduce_ex__', '__repr__', '__setattr__', '__sizeof__', '__str__', '__subclasshook__', 'get_entropy', 'get_eventNum', 'get_fields', 'get_nextProto', 'get_version', 'set']\n"
     ]
    }
   ],
   "source": [
    "print(dir(e2sar_py.LBHdr))"
   ]
  },
  {
   "cell_type": "code",
   "execution_count": 8,
   "metadata": {},
   "outputs": [
    {
     "name": "stdout",
     "output_type": "stream",
     "text": [
      "Before (2, 1, 0, 0)\n",
      "2\n",
      "1\n",
      "0\n",
      "0\n",
      "After (2, 1, 200, 50)\n"
     ]
    }
   ],
   "source": [
    "lbhdr = e2sar_py.LBHdr()\n",
    "\n",
    "print(\"Before\", lbhdr.get_fields())\n",
    "# The field values in sequence\n",
    "print(lbhdr.get_version())\n",
    "print(lbhdr.get_nextProto())\n",
    "print(lbhdr.get_entropy())\n",
    "print(lbhdr.get_eventNum())\n",
    "\n",
    "lbhdr.set(entropy=200, event_num=50)\n",
    "print(\"After\", lbhdr.get_fields())\n",
    "\n"
   ]
  },
  {
   "cell_type": "code",
   "execution_count": 11,
   "metadata": {},
   "outputs": [
    {
     "name": "stdout",
     "output_type": "stream",
     "text": [
      "['__class__', '__delattr__', '__dir__', '__doc__', '__eq__', '__format__', '__ge__', '__getattribute__', '__getstate__', '__gt__', '__hash__', '__init__', '__init_subclass__', '__le__', '__lt__', '__module__', '__ne__', '__new__', '__reduce__', '__reduce_ex__', '__repr__', '__setattr__', '__sizeof__', '__str__', '__subclasshook__']\n"
     ]
    }
   ],
   "source": [
    "print(dir(e2sar_py.LBREHdr))"
   ]
  },
  {
   "cell_type": "code",
   "execution_count": 13,
   "metadata": {},
   "outputs": [
    {
     "name": "stdout",
     "output_type": "stream",
     "text": [
      "['__class__', '__delattr__', '__dir__', '__doc__', '__eq__', '__format__', '__ge__', '__getattribute__', '__getstate__', '__gt__', '__hash__', '__init__', '__init_subclass__', '__le__', '__lt__', '__module__', '__ne__', '__new__', '__reduce__', '__reduce_ex__', '__repr__', '__setattr__', '__sizeof__', '__str__', '__subclasshook__', 'get_avgEventRateHz', 'get_eventNumber', 'get_eventSrcId', 'get_fields', 'get_unixTimeNano', 'set']\n"
     ]
    }
   ],
   "source": [
    "print(dir(e2sar_py.SyncHdr))"
   ]
  }
 ],
 "metadata": {
  "kernelspec": {
   "display_name": "Python 3",
   "language": "python",
   "name": "python3"
  },
  "language_info": {
   "codemirror_mode": {
    "name": "ipython",
    "version": 3
   },
   "file_extension": ".py",
   "mimetype": "text/x-python",
   "name": "python",
   "nbconvert_exporter": "python",
   "pygments_lexer": "ipython3",
   "version": "3.11.9"
  }
 },
 "nbformat": 4,
 "nbformat_minor": 2
}
