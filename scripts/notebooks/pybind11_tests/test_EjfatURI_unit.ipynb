{
 "cells": [
  {
   "cell_type": "markdown",
   "metadata": {},
   "source": [
    "# Pybind11 test for EjfatURI class\n",
    "\n",
    "First import the library \"e2sar_py\". Make sure the module is included in the path."
   ]
  },
  {
   "cell_type": "code",
   "execution_count": 1,
   "metadata": {},
   "outputs": [
    {
     "name": "stdout",
     "output_type": "stream",
     "text": [
      "0.1.0a6\n"
     ]
    }
   ],
   "source": [
    "import sys\n",
    "\n",
    "# IMPORTANT: Adjust the path to your built Python module as necessary\n",
    "sys.path.append(\n",
    "    '/home/xmei/Documents/hpdf_projects/E2SAR/build/src/pybind')\n",
    "\n",
    "import e2sar_py\n",
    "\n",
    "print(e2sar_py.get_version())\n",
    "# Print to check the attributes\n",
    "# print(dir(e2sar_py))"
   ]
  },
  {
   "cell_type": "markdown",
   "metadata": {},
   "source": [
    "(*Optional*) Test the Python `IPaddress` class."
   ]
  },
  {
   "cell_type": "code",
   "execution_count": 2,
   "metadata": {},
   "outputs": [
    {
     "name": "stdout",
     "output_type": "stream",
     "text": [
      "192.168.1.3\n",
      "True\n",
      "False\n"
     ]
    }
   ],
   "source": [
    "ip_instance = e2sar_py.IPAddress.from_string(\"192.168.1.3\")\n",
    "print(ip_instance)\n",
    "print(ip_instance.is_v4())\n",
    "print(ip_instance.is_v6())"
   ]
  },
  {
   "cell_type": "code",
   "execution_count": 3,
   "metadata": {},
   "outputs": [],
   "source": [
    "DEMO_URI = \"ejfat://token@192.188.29.6:18020/lb/36?sync=192.188.29.6:19020&data=192.188.29.20\""
   ]
  },
  {
   "cell_type": "code",
   "execution_count": 4,
   "metadata": {},
   "outputs": [
    {
     "name": "stdout",
     "output_type": "stream",
     "text": [
      "['TokenType', '__class__', '__delattr__', '__dir__', '__doc__', '__eq__', '__format__', '__ge__', '__getattribute__', '__getstate__', '__gt__', '__hash__', '__init__', '__init_subclass__', '__le__', '__lt__', '__module__', '__ne__', '__new__', '__reduce__', '__reduce_ex__', '__repr__', '__setattr__', '__sizeof__', '__str__', '__subclasshook__', 'admin', 'get_admin_token', 'get_cp_addr', 'get_cp_host', 'get_data_addr_v4', 'get_data_addr_v6', 'get_from_env', 'get_from_file', 'get_from_string', 'get_instance_token', 'get_session_token', 'get_sync_addr', 'get_use_tls', 'has_data_addr', 'has_data_addr_v4', 'has_data_addr_v6', 'has_sync_addr', 'instance', 'lb_id', 'lb_name', 'session', 'session_id', 'set_data_addr', 'set_instance_token', 'set_session_token', 'set_sync_addr', 'to_string']\n"
     ]
    }
   ],
   "source": [
    "uri = e2sar_py.EjfatURI(DEMO_URI)\n",
    "\n",
    "print(dir(uri))   # print the supported methods\n"
   ]
  },
  {
   "cell_type": "code",
   "execution_count": 5,
   "metadata": {},
   "outputs": [
    {
     "name": "stdout",
     "output_type": "stream",
     "text": [
      "False\n"
     ]
    }
   ],
   "source": [
    "\n",
    "print(uri.get_use_tls())"
   ]
  },
  {
   "cell_type": "markdown",
   "metadata": {},
   "source": [
    "For C++ class `EjfatURI`, private variables `lbName` and `lbId` are mapped as Python attributes `EjfatURI.lb_name` and `EjfatURI.lb_id`. Their C++ get/set methods are simplified."
   ]
  },
  {
   "cell_type": "code",
   "execution_count": 6,
   "metadata": {},
   "outputs": [
    {
     "name": "stdout",
     "output_type": "stream",
     "text": [
      "LB name not set!\n",
      "lb_pytest\n"
     ]
    }
   ],
   "source": [
    "if (uri.lb_name):\n",
    "    print(uri.lb_name)\n",
    "else:\n",
    "    print(\"LB name not set!\")\n",
    "\n",
    "uri.lb_name = \"lb_pytest\" # equal to Ejfat::set_LbName\n",
    "print(uri.lb_name)  # equal to Ejfat::get_LbName"
   ]
  },
  {
   "cell_type": "markdown",
   "metadata": {},
   "source": [
    "`EjfatURI::set_dataAddr()` and `Ejfat::set_syncAddr()` related bindings."
   ]
  },
  {
   "cell_type": "code",
   "execution_count": 7,
   "metadata": {},
   "outputs": [
    {
     "name": "stdout",
     "output_type": "stream",
     "text": [
      "True\n",
      "True\n",
      "True\n",
      "False\n"
     ]
    }
   ],
   "source": [
    "# Set syncAddr\n",
    "sync_addr = (e2sar_py.IPAddress.from_string(\"192.168.1.1\"), 8080)\n",
    "uri.set_sync_addr(sync_addr)\n",
    "\n",
    "# Set dataAddr\n",
    "data_addr_v4 = (e2sar_py.IPAddress.from_string(\"10.0.0.1\"), 9090)\n",
    "uri.set_data_addr(data_addr_v4)\n",
    "\n",
    "print(uri.has_data_addr())\n",
    "print(uri.has_sync_addr())\n",
    "print(uri.has_data_addr_v4())\n",
    "print(uri.has_data_addr_v6())"
   ]
  },
  {
   "cell_type": "markdown",
   "metadata": {},
   "source": [
    "Bindings where the return type is `result<std::string>`."
   ]
  },
  {
   "cell_type": "code",
   "execution_count": 8,
   "metadata": {},
   "outputs": [
    {
     "name": "stdout",
     "output_type": "stream",
     "text": [
      "Instance Token - Error: Instance token not available\n",
      "Instance Token: token123\n"
     ]
    }
   ],
   "source": [
    "def get_inst_token(uri : e2sar_py.EjfatURI):\n",
    "    try:\n",
    "        token = uri.get_instance_token().value()\n",
    "        print(\"Instance Token:\", token)\n",
    "    except RuntimeError as e:\n",
    "        print(\"Instance Token - Error:\", e)\n",
    "\n",
    "get_inst_token(uri)  # should print error\n",
    "\n",
    "uri.set_instance_token(\"token123\")\n",
    "get_inst_token(uri)  # print the token value\n",
    "\n"
   ]
  },
  {
   "cell_type": "markdown",
   "metadata": {},
   "source": [
    "Bindings where the return type is `std::pair<ip::address, uint16_t>`."
   ]
  },
  {
   "cell_type": "code",
   "execution_count": 9,
   "metadata": {},
   "outputs": [
    {
     "name": "stdout",
     "output_type": "stream",
     "text": [
      "Control Plane Address: 192.188.29.6\n",
      "Control Plane Port: 18020\n"
     ]
    }
   ],
   "source": [
    "# Get control plane address\n",
    "try:\n",
    "    cp_addr = uri.get_cp_addr().value()\n",
    "    print(\"Control Plane Address:\", str(cp_addr[0]))\n",
    "    print(\"Control Plane Port:\", cp_addr[1])\n",
    "except RuntimeError as e:\n",
    "    print(\"Control Plane Address - Error:\", e)"
   ]
  },
  {
   "cell_type": "code",
   "execution_count": 10,
   "metadata": {},
   "outputs": [
    {
     "name": "stdout",
     "output_type": "stream",
     "text": [
      "Data Plane Address (v4): 10.0.0.1\n",
      "Data Plane Address (v6) - Error: Data plane address not available\n",
      "Sync Address: 192.168.1.1\n"
     ]
    }
   ],
   "source": [
    "# Get data plane IPv4 address\n",
    "print(\"Data Plane Address (v4):\", str(uri.get_data_addr_v4().value()[0]))\n",
    "\n",
    "# Get data plane IPv6 address\n",
    "try:\n",
    "    data_addr_v6 = uri.get_data_addr_v6().value()\n",
    "    print(\"Data Plane Address (v6):\", str(data_addr_v6[0]))\n",
    "except RuntimeError as e:\n",
    "    print(\"Data Plane Address (v6) - Error:\", e)\n",
    "\n",
    "# Get sync address\n",
    "print(\"Sync Address:\", str(uri.get_sync_addr().value()[0]))"
   ]
  },
  {
   "cell_type": "markdown",
   "metadata": {},
   "source": [
    "C++ return type is `result<std::pair<std::string, u_int16_t>>`."
   ]
  },
  {
   "cell_type": "code",
   "execution_count": 11,
   "metadata": {},
   "outputs": [
    {
     "name": "stdout",
     "output_type": "stream",
     "text": [
      "Control Plane Host - Error: Control plane hostname not available\n"
     ]
    }
   ],
   "source": [
    "# Control plane host\n",
    "try:\n",
    "    cp_host = uri.get_cp_host().value()\n",
    "    print(\"Control Plane Host:\", str(cp_host[0]))\n",
    "    print(\"Control Plane Host Port:\", cp_host[1])\n",
    "except RuntimeError as e:\n",
    "    print(\"Control Plane Host - Error:\", e)"
   ]
  }
 ],
 "metadata": {
  "kernelspec": {
   "display_name": "Python 3",
   "language": "python",
   "name": "python3"
  },
  "language_info": {
   "codemirror_mode": {
    "name": "ipython",
    "version": 3
   },
   "file_extension": ".py",
   "mimetype": "text/x-python",
   "name": "python",
   "nbconvert_exporter": "python",
   "pygments_lexer": "ipython3",
   "version": "3.11.9"
  }
 },
 "nbformat": 4,
 "nbformat_minor": 2
}
