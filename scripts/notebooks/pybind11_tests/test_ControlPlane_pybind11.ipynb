{
 "cells": [
  {
   "cell_type": "markdown",
   "metadata": {},
   "source": [
    "# Pybind11 test for ControlPlane Submodule\n",
    "\n",
    "First import the library \"e2sar_py\". Make sure the module is included in the path."
   ]
  },
  {
   "cell_type": "code",
   "execution_count": 1,
   "metadata": {},
   "outputs": [],
   "source": [
    "import sys\n",
    "\n",
    "# Adjust the path to your build/src as necessary\n",
    "sys.path.append(\n",
    "    '/home/xmei/Documents/hpdf_projects/E2SAR/build/src/pybind')\n",
    "\n",
    "import e2sar_py\n",
    "\n",
    "# Print to check the attributes\n",
    "# print(dir(e2sar_py))"
   ]
  },
  {
   "cell_type": "code",
   "execution_count": 2,
   "metadata": {},
   "outputs": [
    {
     "name": "stdout",
     "output_type": "stream",
     "text": [
      "['LBManager', 'LBStatus', 'LBWorkerStatus', 'LoadBalancerStatusReply', '__doc__', '__loader__', '__name__', '__package__', '__spec__']\n"
     ]
    }
   ],
   "source": [
    "print(dir(e2sar_py.ControlPlane))"
   ]
  },
  {
   "cell_type": "markdown",
   "metadata": {},
   "source": [
    "## \"LBManager\" class\n",
    "Intialize `LBManager`."
   ]
  },
  {
   "cell_type": "code",
   "execution_count": 3,
   "metadata": {},
   "outputs": [
    {
     "name": "stdout",
     "output_type": "stream",
     "text": [
      "['__class__', '__delattr__', '__dir__', '__doc__', '__eq__', '__format__', '__ge__', '__getattribute__', '__getstate__', '__gt__', '__hash__', '__init__', '__init_subclass__', '__le__', '__lt__', '__module__', '__ne__', '__new__', '__reduce__', '__reduce_ex__', '__repr__', '__setattr__', '__sizeof__', '__str__', '__subclasshook__', 'deregister_worker', 'free_lb', 'free_lb_by_id', 'get_lb', 'get_lb_by_id', 'get_lb_status', 'get_lb_status_by_id', 'get_port_range', 'get_uri', 'get_version', 'make_ssl_options', 'register_worker', 'reserve_lb_seconds', 'send_state']\n"
     ]
    }
   ],
   "source": [
    "print(dir(e2sar_py.ControlPlane.LBManager))"
   ]
  },
  {
   "cell_type": "code",
   "execution_count": 4,
   "metadata": {},
   "outputs": [],
   "source": [
    "TEST_URI = \"ejfat://token@192.188.29.6:18020/lb/36?sync=192.188.29.6:19020&data=192.188.29.20\"\n",
    "\n",
    "uri = e2sar_py.EjfatURI(TEST_URI)\n",
    "\n",
    "lb_manager = e2sar_py.ControlPlane.LBManager(uri)"
   ]
  },
  {
   "cell_type": "code",
   "execution_count": 5,
   "metadata": {},
   "outputs": [
    {
     "name": "stdout",
     "output_type": "stream",
     "text": [
      "Has data address:  True\n",
      "Has sync address:  True\n",
      "Control plane address:  192.188.29.6 : 18020\n",
      "Data plane address (IPv4):  192.188.29.20 : 19522\n",
      "Admin token:  token\n"
     ]
    }
   ],
   "source": [
    "res_uri = lb_manager.get_uri()  # return an EjfatURI object\n",
    "\n",
    "print(\"Has data address: \", res_uri.has_data_addr())\n",
    "print(\"Has sync address: \", res_uri.has_sync_addr())\n",
    "\n",
    "res_cp_addr = res_uri.get_cp_addr().value()\n",
    "print(\"Control plane address: \", res_cp_addr[0], \":\", res_cp_addr[1])\n",
    "\n",
    "res_data_addr_v4 = res_uri.get_data_addr_v4().value()\n",
    "print(\"Data plane address (IPv4): \", res_data_addr_v4[0], \":\", res_data_addr_v4[1])\n",
    "\n",
    "print(\"Admin token: \", res_uri.get_admin_token().value())"
   ]
  },
  {
   "cell_type": "markdown",
   "metadata": {},
   "source": [
    "### Tests with a mock EJ-FAT Load Balancer\n",
    "\n",
    "Below contexts need a real LB running"
   ]
  },
  {
   "cell_type": "markdown",
   "metadata": {},
   "source": [
    "### Reserve a LB with seconds\n",
    "\n",
    "The Python `datetime.timedelta` package is very convenient to get durations. For simplicity, we create a C++ method `LBManager::reserveLB` based on duration in seconds."
   ]
  },
  {
   "cell_type": "code",
   "execution_count": 6,
   "metadata": {},
   "outputs": [
    {
     "name": "stdout",
     "output_type": "stream",
     "text": [
      "Caught runtime error: Error connecting to LB CP in reserveLB(): failed to connect to all addresses; last error: UNKNOWN: ipv4:192.188.29.6:18020: Failed to connect to remote host: FD Shutdown\n"
     ]
    }
   ],
   "source": [
    "from datetime import timedelta\n",
    "\n",
    "duration_seconds = timedelta(hours=1).total_seconds()\n",
    "ip_list = [\"192.168.100.1\", \"192.168.100.2\"]\n",
    "\n",
    "try:\n",
    "    reserve_result = lb_manager.reserve_lb_seconds(\n",
    "        lb_id=\"ejfat\", seconds=duration_seconds, senders=ip_list)\n",
    "    print(reserve_result.value())\n",
    "except RuntimeError as e:\n",
    "    print(\"Caught runtime error:\", e)"
   ]
  }
 ],
 "metadata": {
  "kernelspec": {
   "display_name": "Python 3",
   "language": "python",
   "name": "python3"
  },
  "language_info": {
   "codemirror_mode": {
    "name": "ipython",
    "version": 3
   },
   "file_extension": ".py",
   "mimetype": "text/x-python",
   "name": "python",
   "nbconvert_exporter": "python",
   "pygments_lexer": "ipython3",
   "version": "3.11.9"
  }
 },
 "nbformat": 4,
 "nbformat_minor": 2
}
